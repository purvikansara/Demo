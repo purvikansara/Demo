{
 "cells": [
  {
   "cell_type": "markdown",
   "id": "d699350b",
   "metadata": {},
   "source": [
    "# Week 15, Lecture 02 CodeAlong: Hypothesis Testing"
   ]
  },
  {
   "cell_type": "markdown",
   "id": "028cec6c",
   "metadata": {},
   "source": [
    "- xx/xx/xx"
   ]
  },
  {
   "cell_type": "markdown",
   "id": "f13e63e9",
   "metadata": {},
   "source": [
    "Today, we will be analyzing data from the Crowdfunding website Kiva and answering several questions about the data.\n",
    "\n",
    "- Use your hypothesis testing skills and the  [\"Guide: Choosing the Right Hypothesis Test\"](https://login.codingdojo.com/m/376/12533/88117) lesson from the LP.\n",
    "    \n",
    "\n",
    "- Kiva Crowdfunding Data Set:\n",
    "    -  https://www.kaggle.com/datasets/kiva/data-science-for-good-kiva-crowdfunding \n",
    "\n"
   ]
  },
  {
   "cell_type": "markdown",
   "id": "d22c6aa9",
   "metadata": {},
   "source": [
    "### Questions to Answer"
   ]
  },
  {
   "cell_type": "markdown",
   "id": "e1613f1a",
   "metadata": {},
   "source": [
    "- Q1: Do all-male teams get more funding vs teams that include at least 1 female?\n",
    "- Q2: Do different sectors get more/less funding?"
   ]
  },
  {
   "cell_type": "markdown",
   "id": "118ab3ca",
   "metadata": {},
   "source": [
    "# Hypothesis Testing"
   ]
  },
  {
   "cell_type": "code",
   "execution_count": 1,
   "id": "892936f6",
   "metadata": {},
   "outputs": [
    {
     "data": {
      "text/plain": [
       "'1.8.1'"
      ]
     },
     "execution_count": 1,
     "metadata": {},
     "output_type": "execute_result"
    }
   ],
   "source": [
    "import json\n",
    "import pandas as pd\n",
    "import numpy as np\n",
    "\n",
    "import matplotlib.pyplot as plt\n",
    "import seaborn as sns\n",
    "\n",
    "from scipy import stats\n",
    "import scipy\n",
    "scipy.__version__"
   ]
  },
  {
   "cell_type": "code",
   "execution_count": 2,
   "id": "20ff0592",
   "metadata": {},
   "outputs": [
    {
     "name": "stdout",
     "output_type": "stream",
     "text": [
      "<class 'pandas.core.frame.DataFrame'>\n",
      "RangeIndex: 666984 entries, 0 to 666983\n",
      "Data columns (total 20 columns):\n",
      " #   Column              Non-Null Count   Dtype  \n",
      "---  ------              --------------   -----  \n",
      " 0   id                  666984 non-null  int64  \n",
      " 1   funded_amount       666984 non-null  float64\n",
      " 2   loan_amount         666984 non-null  float64\n",
      " 3   activity            666984 non-null  object \n",
      " 4   sector              666984 non-null  object \n",
      " 5   use                 666973 non-null  object \n",
      " 6   country_code        666976 non-null  object \n",
      " 7   country             666984 non-null  object \n",
      " 8   region              614405 non-null  object \n",
      " 9   currency            666984 non-null  object \n",
      " 10  partner_id          653896 non-null  float64\n",
      " 11  posted_time         666984 non-null  object \n",
      " 12  disbursed_time      665003 non-null  object \n",
      " 13  funded_time         619335 non-null  object \n",
      " 14  term_in_months      666984 non-null  float64\n",
      " 15  lender_count        666984 non-null  int64  \n",
      " 16  tags                496877 non-null  object \n",
      " 17  borrower_genders    666984 non-null  object \n",
      " 18  repayment_interval  666984 non-null  object \n",
      " 19  date                666984 non-null  object \n",
      "dtypes: float64(4), int64(2), object(14)\n",
      "memory usage: 101.8+ MB\n"
     ]
    },
    {
     "data": {
      "text/html": [
       "<div>\n",
       "<style scoped>\n",
       "    .dataframe tbody tr th:only-of-type {\n",
       "        vertical-align: middle;\n",
       "    }\n",
       "\n",
       "    .dataframe tbody tr th {\n",
       "        vertical-align: top;\n",
       "    }\n",
       "\n",
       "    .dataframe thead th {\n",
       "        text-align: right;\n",
       "    }\n",
       "</style>\n",
       "<table border=\"1\" class=\"dataframe\">\n",
       "  <thead>\n",
       "    <tr style=\"text-align: right;\">\n",
       "      <th></th>\n",
       "      <th>id</th>\n",
       "      <th>funded_amount</th>\n",
       "      <th>loan_amount</th>\n",
       "      <th>activity</th>\n",
       "      <th>sector</th>\n",
       "      <th>use</th>\n",
       "      <th>country_code</th>\n",
       "      <th>country</th>\n",
       "      <th>region</th>\n",
       "      <th>currency</th>\n",
       "      <th>partner_id</th>\n",
       "      <th>posted_time</th>\n",
       "      <th>disbursed_time</th>\n",
       "      <th>funded_time</th>\n",
       "      <th>term_in_months</th>\n",
       "      <th>lender_count</th>\n",
       "      <th>tags</th>\n",
       "      <th>borrower_genders</th>\n",
       "      <th>repayment_interval</th>\n",
       "      <th>date</th>\n",
       "    </tr>\n",
       "  </thead>\n",
       "  <tbody>\n",
       "    <tr>\n",
       "      <th>0</th>\n",
       "      <td>653051</td>\n",
       "      <td>300.0</td>\n",
       "      <td>300.0</td>\n",
       "      <td>Fruits &amp; Vegetables</td>\n",
       "      <td>Food</td>\n",
       "      <td>To buy seasonal, fresh fruits to sell.</td>\n",
       "      <td>PK</td>\n",
       "      <td>Pakistan</td>\n",
       "      <td>Lahore</td>\n",
       "      <td>PKR</td>\n",
       "      <td>247.0</td>\n",
       "      <td>2014-01-01 06:12:39+00:00</td>\n",
       "      <td>2013-12-17 08:00:00+00:00</td>\n",
       "      <td>2014-01-02 10:06:32+00:00</td>\n",
       "      <td>12.0</td>\n",
       "      <td>12</td>\n",
       "      <td>NaN</td>\n",
       "      <td>female</td>\n",
       "      <td>irregular</td>\n",
       "      <td>2014-01-01</td>\n",
       "    </tr>\n",
       "    <tr>\n",
       "      <th>1</th>\n",
       "      <td>653053</td>\n",
       "      <td>575.0</td>\n",
       "      <td>575.0</td>\n",
       "      <td>Rickshaw</td>\n",
       "      <td>Transportation</td>\n",
       "      <td>to repair and maintain the auto rickshaw used ...</td>\n",
       "      <td>PK</td>\n",
       "      <td>Pakistan</td>\n",
       "      <td>Lahore</td>\n",
       "      <td>PKR</td>\n",
       "      <td>247.0</td>\n",
       "      <td>2014-01-01 06:51:08+00:00</td>\n",
       "      <td>2013-12-17 08:00:00+00:00</td>\n",
       "      <td>2014-01-02 09:17:23+00:00</td>\n",
       "      <td>11.0</td>\n",
       "      <td>14</td>\n",
       "      <td>NaN</td>\n",
       "      <td>female, female</td>\n",
       "      <td>irregular</td>\n",
       "      <td>2014-01-01</td>\n",
       "    </tr>\n",
       "    <tr>\n",
       "      <th>2</th>\n",
       "      <td>653068</td>\n",
       "      <td>150.0</td>\n",
       "      <td>150.0</td>\n",
       "      <td>Transportation</td>\n",
       "      <td>Transportation</td>\n",
       "      <td>To repair their old cycle-van and buy another ...</td>\n",
       "      <td>IN</td>\n",
       "      <td>India</td>\n",
       "      <td>Maynaguri</td>\n",
       "      <td>INR</td>\n",
       "      <td>334.0</td>\n",
       "      <td>2014-01-01 09:58:07+00:00</td>\n",
       "      <td>2013-12-17 08:00:00+00:00</td>\n",
       "      <td>2014-01-01 16:01:36+00:00</td>\n",
       "      <td>43.0</td>\n",
       "      <td>6</td>\n",
       "      <td>user_favorite, user_favorite</td>\n",
       "      <td>female</td>\n",
       "      <td>bullet</td>\n",
       "      <td>2014-01-01</td>\n",
       "    </tr>\n",
       "    <tr>\n",
       "      <th>3</th>\n",
       "      <td>653063</td>\n",
       "      <td>200.0</td>\n",
       "      <td>200.0</td>\n",
       "      <td>Embroidery</td>\n",
       "      <td>Arts</td>\n",
       "      <td>to purchase an embroidery machine and a variet...</td>\n",
       "      <td>PK</td>\n",
       "      <td>Pakistan</td>\n",
       "      <td>Lahore</td>\n",
       "      <td>PKR</td>\n",
       "      <td>247.0</td>\n",
       "      <td>2014-01-01 08:03:11+00:00</td>\n",
       "      <td>2013-12-24 08:00:00+00:00</td>\n",
       "      <td>2014-01-01 13:00:00+00:00</td>\n",
       "      <td>11.0</td>\n",
       "      <td>8</td>\n",
       "      <td>NaN</td>\n",
       "      <td>female</td>\n",
       "      <td>irregular</td>\n",
       "      <td>2014-01-01</td>\n",
       "    </tr>\n",
       "    <tr>\n",
       "      <th>4</th>\n",
       "      <td>653084</td>\n",
       "      <td>400.0</td>\n",
       "      <td>400.0</td>\n",
       "      <td>Milk Sales</td>\n",
       "      <td>Food</td>\n",
       "      <td>to purchase one buffalo.</td>\n",
       "      <td>PK</td>\n",
       "      <td>Pakistan</td>\n",
       "      <td>Abdul Hakeem</td>\n",
       "      <td>PKR</td>\n",
       "      <td>245.0</td>\n",
       "      <td>2014-01-01 11:53:19+00:00</td>\n",
       "      <td>2013-12-17 08:00:00+00:00</td>\n",
       "      <td>2014-01-01 19:18:51+00:00</td>\n",
       "      <td>14.0</td>\n",
       "      <td>16</td>\n",
       "      <td>NaN</td>\n",
       "      <td>female</td>\n",
       "      <td>monthly</td>\n",
       "      <td>2014-01-01</td>\n",
       "    </tr>\n",
       "  </tbody>\n",
       "</table>\n",
       "</div>"
      ],
      "text/plain": [
       "       id  funded_amount  loan_amount             activity          sector  \\\n",
       "0  653051          300.0        300.0  Fruits & Vegetables            Food   \n",
       "1  653053          575.0        575.0             Rickshaw  Transportation   \n",
       "2  653068          150.0        150.0       Transportation  Transportation   \n",
       "3  653063          200.0        200.0           Embroidery            Arts   \n",
       "4  653084          400.0        400.0           Milk Sales            Food   \n",
       "\n",
       "                                                 use country_code   country  \\\n",
       "0            To buy seasonal, fresh fruits to sell.            PK  Pakistan   \n",
       "1  to repair and maintain the auto rickshaw used ...           PK  Pakistan   \n",
       "2  To repair their old cycle-van and buy another ...           IN     India   \n",
       "3  to purchase an embroidery machine and a variet...           PK  Pakistan   \n",
       "4                           to purchase one buffalo.           PK  Pakistan   \n",
       "\n",
       "         region currency  partner_id                posted_time  \\\n",
       "0        Lahore      PKR       247.0  2014-01-01 06:12:39+00:00   \n",
       "1        Lahore      PKR       247.0  2014-01-01 06:51:08+00:00   \n",
       "2     Maynaguri      INR       334.0  2014-01-01 09:58:07+00:00   \n",
       "3        Lahore      PKR       247.0  2014-01-01 08:03:11+00:00   \n",
       "4  Abdul Hakeem      PKR       245.0  2014-01-01 11:53:19+00:00   \n",
       "\n",
       "              disbursed_time                funded_time  term_in_months  \\\n",
       "0  2013-12-17 08:00:00+00:00  2014-01-02 10:06:32+00:00            12.0   \n",
       "1  2013-12-17 08:00:00+00:00  2014-01-02 09:17:23+00:00            11.0   \n",
       "2  2013-12-17 08:00:00+00:00  2014-01-01 16:01:36+00:00            43.0   \n",
       "3  2013-12-24 08:00:00+00:00  2014-01-01 13:00:00+00:00            11.0   \n",
       "4  2013-12-17 08:00:00+00:00  2014-01-01 19:18:51+00:00            14.0   \n",
       "\n",
       "   lender_count                          tags borrower_genders  \\\n",
       "0            12                           NaN           female   \n",
       "1            14                           NaN   female, female   \n",
       "2             6  user_favorite, user_favorite           female   \n",
       "3             8                           NaN           female   \n",
       "4            16                           NaN           female   \n",
       "\n",
       "  repayment_interval        date  \n",
       "0          irregular  2014-01-01  \n",
       "1          irregular  2014-01-01  \n",
       "2             bullet  2014-01-01  \n",
       "3          irregular  2014-01-01  \n",
       "4            monthly  2014-01-01  "
      ]
     },
     "execution_count": 2,
     "metadata": {},
     "output_type": "execute_result"
    }
   ],
   "source": [
    "## load the kiva_loans.csv. display info and head\n",
    "df = pd.read_csv('Data/kiva_loans.csv.gz')\n",
    "df.info()\n",
    "df.head()"
   ]
  },
  {
   "cell_type": "code",
   "execution_count": 3,
   "id": "635b5d1c",
   "metadata": {},
   "outputs": [
    {
     "name": "stdout",
     "output_type": "stream",
     "text": [
      "<class 'pandas.core.frame.DataFrame'>\n",
      "Int64Index: 666984 entries, 653051 to 1340339\n",
      "Data columns (total 19 columns):\n",
      " #   Column              Non-Null Count   Dtype  \n",
      "---  ------              --------------   -----  \n",
      " 0   funded_amount       666984 non-null  float64\n",
      " 1   loan_amount         666984 non-null  float64\n",
      " 2   activity            666984 non-null  object \n",
      " 3   sector              666984 non-null  object \n",
      " 4   use                 666973 non-null  object \n",
      " 5   country_code        666976 non-null  object \n",
      " 6   country             666984 non-null  object \n",
      " 7   region              614405 non-null  object \n",
      " 8   currency            666984 non-null  object \n",
      " 9   partner_id          653896 non-null  float64\n",
      " 10  posted_time         666984 non-null  object \n",
      " 11  disbursed_time      665003 non-null  object \n",
      " 12  funded_time         619335 non-null  object \n",
      " 13  term_in_months      666984 non-null  float64\n",
      " 14  lender_count        666984 non-null  int64  \n",
      " 15  tags                496877 non-null  object \n",
      " 16  borrower_genders    666984 non-null  object \n",
      " 17  repayment_interval  666984 non-null  object \n",
      " 18  date                666984 non-null  object \n",
      "dtypes: float64(4), int64(1), object(14)\n",
      "memory usage: 101.8+ MB\n"
     ]
    },
    {
     "data": {
      "text/html": [
       "<div>\n",
       "<style scoped>\n",
       "    .dataframe tbody tr th:only-of-type {\n",
       "        vertical-align: middle;\n",
       "    }\n",
       "\n",
       "    .dataframe tbody tr th {\n",
       "        vertical-align: top;\n",
       "    }\n",
       "\n",
       "    .dataframe thead th {\n",
       "        text-align: right;\n",
       "    }\n",
       "</style>\n",
       "<table border=\"1\" class=\"dataframe\">\n",
       "  <thead>\n",
       "    <tr style=\"text-align: right;\">\n",
       "      <th></th>\n",
       "      <th>funded_amount</th>\n",
       "      <th>loan_amount</th>\n",
       "      <th>activity</th>\n",
       "      <th>sector</th>\n",
       "      <th>use</th>\n",
       "      <th>country_code</th>\n",
       "      <th>country</th>\n",
       "      <th>region</th>\n",
       "      <th>currency</th>\n",
       "      <th>partner_id</th>\n",
       "      <th>posted_time</th>\n",
       "      <th>disbursed_time</th>\n",
       "      <th>funded_time</th>\n",
       "      <th>term_in_months</th>\n",
       "      <th>lender_count</th>\n",
       "      <th>tags</th>\n",
       "      <th>borrower_genders</th>\n",
       "      <th>repayment_interval</th>\n",
       "      <th>date</th>\n",
       "    </tr>\n",
       "    <tr>\n",
       "      <th>id</th>\n",
       "      <th></th>\n",
       "      <th></th>\n",
       "      <th></th>\n",
       "      <th></th>\n",
       "      <th></th>\n",
       "      <th></th>\n",
       "      <th></th>\n",
       "      <th></th>\n",
       "      <th></th>\n",
       "      <th></th>\n",
       "      <th></th>\n",
       "      <th></th>\n",
       "      <th></th>\n",
       "      <th></th>\n",
       "      <th></th>\n",
       "      <th></th>\n",
       "      <th></th>\n",
       "      <th></th>\n",
       "      <th></th>\n",
       "    </tr>\n",
       "  </thead>\n",
       "  <tbody>\n",
       "    <tr>\n",
       "      <th>653051</th>\n",
       "      <td>300.0</td>\n",
       "      <td>300.0</td>\n",
       "      <td>Fruits &amp; Vegetables</td>\n",
       "      <td>Food</td>\n",
       "      <td>To buy seasonal, fresh fruits to sell.</td>\n",
       "      <td>PK</td>\n",
       "      <td>Pakistan</td>\n",
       "      <td>Lahore</td>\n",
       "      <td>PKR</td>\n",
       "      <td>247.0</td>\n",
       "      <td>2014-01-01 06:12:39+00:00</td>\n",
       "      <td>2013-12-17 08:00:00+00:00</td>\n",
       "      <td>2014-01-02 10:06:32+00:00</td>\n",
       "      <td>12.0</td>\n",
       "      <td>12</td>\n",
       "      <td>NaN</td>\n",
       "      <td>female</td>\n",
       "      <td>irregular</td>\n",
       "      <td>2014-01-01</td>\n",
       "    </tr>\n",
       "    <tr>\n",
       "      <th>653053</th>\n",
       "      <td>575.0</td>\n",
       "      <td>575.0</td>\n",
       "      <td>Rickshaw</td>\n",
       "      <td>Transportation</td>\n",
       "      <td>to repair and maintain the auto rickshaw used ...</td>\n",
       "      <td>PK</td>\n",
       "      <td>Pakistan</td>\n",
       "      <td>Lahore</td>\n",
       "      <td>PKR</td>\n",
       "      <td>247.0</td>\n",
       "      <td>2014-01-01 06:51:08+00:00</td>\n",
       "      <td>2013-12-17 08:00:00+00:00</td>\n",
       "      <td>2014-01-02 09:17:23+00:00</td>\n",
       "      <td>11.0</td>\n",
       "      <td>14</td>\n",
       "      <td>NaN</td>\n",
       "      <td>female, female</td>\n",
       "      <td>irregular</td>\n",
       "      <td>2014-01-01</td>\n",
       "    </tr>\n",
       "    <tr>\n",
       "      <th>653068</th>\n",
       "      <td>150.0</td>\n",
       "      <td>150.0</td>\n",
       "      <td>Transportation</td>\n",
       "      <td>Transportation</td>\n",
       "      <td>To repair their old cycle-van and buy another ...</td>\n",
       "      <td>IN</td>\n",
       "      <td>India</td>\n",
       "      <td>Maynaguri</td>\n",
       "      <td>INR</td>\n",
       "      <td>334.0</td>\n",
       "      <td>2014-01-01 09:58:07+00:00</td>\n",
       "      <td>2013-12-17 08:00:00+00:00</td>\n",
       "      <td>2014-01-01 16:01:36+00:00</td>\n",
       "      <td>43.0</td>\n",
       "      <td>6</td>\n",
       "      <td>user_favorite, user_favorite</td>\n",
       "      <td>female</td>\n",
       "      <td>bullet</td>\n",
       "      <td>2014-01-01</td>\n",
       "    </tr>\n",
       "    <tr>\n",
       "      <th>653063</th>\n",
       "      <td>200.0</td>\n",
       "      <td>200.0</td>\n",
       "      <td>Embroidery</td>\n",
       "      <td>Arts</td>\n",
       "      <td>to purchase an embroidery machine and a variet...</td>\n",
       "      <td>PK</td>\n",
       "      <td>Pakistan</td>\n",
       "      <td>Lahore</td>\n",
       "      <td>PKR</td>\n",
       "      <td>247.0</td>\n",
       "      <td>2014-01-01 08:03:11+00:00</td>\n",
       "      <td>2013-12-24 08:00:00+00:00</td>\n",
       "      <td>2014-01-01 13:00:00+00:00</td>\n",
       "      <td>11.0</td>\n",
       "      <td>8</td>\n",
       "      <td>NaN</td>\n",
       "      <td>female</td>\n",
       "      <td>irregular</td>\n",
       "      <td>2014-01-01</td>\n",
       "    </tr>\n",
       "    <tr>\n",
       "      <th>653084</th>\n",
       "      <td>400.0</td>\n",
       "      <td>400.0</td>\n",
       "      <td>Milk Sales</td>\n",
       "      <td>Food</td>\n",
       "      <td>to purchase one buffalo.</td>\n",
       "      <td>PK</td>\n",
       "      <td>Pakistan</td>\n",
       "      <td>Abdul Hakeem</td>\n",
       "      <td>PKR</td>\n",
       "      <td>245.0</td>\n",
       "      <td>2014-01-01 11:53:19+00:00</td>\n",
       "      <td>2013-12-17 08:00:00+00:00</td>\n",
       "      <td>2014-01-01 19:18:51+00:00</td>\n",
       "      <td>14.0</td>\n",
       "      <td>16</td>\n",
       "      <td>NaN</td>\n",
       "      <td>female</td>\n",
       "      <td>monthly</td>\n",
       "      <td>2014-01-01</td>\n",
       "    </tr>\n",
       "  </tbody>\n",
       "</table>\n",
       "</div>"
      ],
      "text/plain": [
       "        funded_amount  loan_amount             activity          sector  \\\n",
       "id                                                                        \n",
       "653051          300.0        300.0  Fruits & Vegetables            Food   \n",
       "653053          575.0        575.0             Rickshaw  Transportation   \n",
       "653068          150.0        150.0       Transportation  Transportation   \n",
       "653063          200.0        200.0           Embroidery            Arts   \n",
       "653084          400.0        400.0           Milk Sales            Food   \n",
       "\n",
       "                                                      use country_code  \\\n",
       "id                                                                       \n",
       "653051            To buy seasonal, fresh fruits to sell.            PK   \n",
       "653053  to repair and maintain the auto rickshaw used ...           PK   \n",
       "653068  To repair their old cycle-van and buy another ...           IN   \n",
       "653063  to purchase an embroidery machine and a variet...           PK   \n",
       "653084                           to purchase one buffalo.           PK   \n",
       "\n",
       "         country        region currency  partner_id  \\\n",
       "id                                                    \n",
       "653051  Pakistan        Lahore      PKR       247.0   \n",
       "653053  Pakistan        Lahore      PKR       247.0   \n",
       "653068     India     Maynaguri      INR       334.0   \n",
       "653063  Pakistan        Lahore      PKR       247.0   \n",
       "653084  Pakistan  Abdul Hakeem      PKR       245.0   \n",
       "\n",
       "                      posted_time             disbursed_time  \\\n",
       "id                                                             \n",
       "653051  2014-01-01 06:12:39+00:00  2013-12-17 08:00:00+00:00   \n",
       "653053  2014-01-01 06:51:08+00:00  2013-12-17 08:00:00+00:00   \n",
       "653068  2014-01-01 09:58:07+00:00  2013-12-17 08:00:00+00:00   \n",
       "653063  2014-01-01 08:03:11+00:00  2013-12-24 08:00:00+00:00   \n",
       "653084  2014-01-01 11:53:19+00:00  2013-12-17 08:00:00+00:00   \n",
       "\n",
       "                      funded_time  term_in_months  lender_count  \\\n",
       "id                                                                \n",
       "653051  2014-01-02 10:06:32+00:00            12.0            12   \n",
       "653053  2014-01-02 09:17:23+00:00            11.0            14   \n",
       "653068  2014-01-01 16:01:36+00:00            43.0             6   \n",
       "653063  2014-01-01 13:00:00+00:00            11.0             8   \n",
       "653084  2014-01-01 19:18:51+00:00            14.0            16   \n",
       "\n",
       "                                tags borrower_genders repayment_interval  \\\n",
       "id                                                                         \n",
       "653051                           NaN           female          irregular   \n",
       "653053                           NaN   female, female          irregular   \n",
       "653068  user_favorite, user_favorite           female             bullet   \n",
       "653063                           NaN           female          irregular   \n",
       "653084                           NaN           female            monthly   \n",
       "\n",
       "              date  \n",
       "id                  \n",
       "653051  2014-01-01  \n",
       "653053  2014-01-01  \n",
       "653068  2014-01-01  \n",
       "653063  2014-01-01  \n",
       "653084  2014-01-01  "
      ]
     },
     "execution_count": 3,
     "metadata": {},
     "output_type": "execute_result"
    }
   ],
   "source": [
    "## Drop null values from related columns\n",
    "df = df.dropna(subset=['borrower_genders','funded_amount'])\n",
    "\n",
    "# Setting the id as the index\n",
    "df = df.set_index('id')\n",
    "df.info()\n",
    "df.head()"
   ]
  },
  {
   "cell_type": "markdown",
   "id": "23c86ada",
   "metadata": {
    "heading_collapsed": true
   },
   "source": [
    "# Q1:  Do all-male teams get more funding vs teams that include at least 1 female?"
   ]
  },
  {
   "cell_type": "markdown",
   "id": "6cda1c2a",
   "metadata": {
    "heading_collapsed": true,
    "hidden": true
   },
   "source": [
    "## 1. State the Hypothesis & Null Hypothesis "
   ]
  },
  {
   "cell_type": "markdown",
   "id": "99032d8e",
   "metadata": {
    "hidden": true
   },
   "source": [
    "- $H_0$ (Null Hypothesis):\n",
    "- $H_A$ (Alternative Hypothesis):  "
   ]
  },
  {
   "cell_type": "markdown",
   "id": "a06a0a19",
   "metadata": {
    "hidden": true
   },
   "source": [
    "## 2. Determine the correct test to perform.\n",
    "- Type of Data? Numeric\n",
    "- How many groups/samples? more than 2\n",
    "- Therefore, which test is appropriate? ANOVA"
   ]
  },
  {
   "cell_type": "markdown",
   "id": "bc3ec916",
   "metadata": {
    "hidden": true
   },
   "source": [
    "### Visualize and separate data for hypothesis"
   ]
  },
  {
   "cell_type": "markdown",
   "id": "934fd107",
   "metadata": {
    "hidden": true
   },
   "source": [
    "- What column is our target?\n",
    "- What column determines our groups?"
   ]
  },
  {
   "cell_type": "code",
   "execution_count": null,
   "id": "16afe96d",
   "metadata": {
    "hidden": true
   },
   "outputs": [],
   "source": [
    "## check the col that contains the measurement\n"
   ]
  },
  {
   "cell_type": "code",
   "execution_count": null,
   "id": "5001f922",
   "metadata": {
    "hidden": true
   },
   "outputs": [],
   "source": [
    "## check the col that contains info on gender\n"
   ]
  },
  {
   "cell_type": "code",
   "execution_count": null,
   "id": "44463923",
   "metadata": {
    "hidden": true
   },
   "outputs": [],
   "source": [
    "## create a column that easily separates our groups\n"
   ]
  },
  {
   "cell_type": "code",
   "execution_count": null,
   "id": "8c8ee587",
   "metadata": {
    "hidden": true
   },
   "outputs": [],
   "source": [
    "## save list of columns needed for each group\n",
    "needed_cols = None"
   ]
  },
  {
   "cell_type": "code",
   "execution_count": null,
   "id": "12415b31",
   "metadata": {
    "hidden": true
   },
   "outputs": [],
   "source": [
    "## save male team in separate variable\n",
    "male_df = None\n",
    "male_df"
   ]
  },
  {
   "cell_type": "code",
   "execution_count": null,
   "id": "a114459b",
   "metadata": {
    "hidden": true
   },
   "outputs": [],
   "source": [
    "## save female team in separate variables\n",
    "female_df = None\n",
    "female_df"
   ]
  },
  {
   "cell_type": "code",
   "execution_count": null,
   "id": "cd5e3c6f",
   "metadata": {
    "hidden": true
   },
   "outputs": [],
   "source": [
    "## Make a df just for visualization by concat the groups \n",
    "plot_df =  None\n",
    "plot_df"
   ]
  },
  {
   "cell_type": "code",
   "execution_count": null,
   "id": "e2166acd",
   "metadata": {
    "hidden": true
   },
   "outputs": [],
   "source": [
    "## visualize the group means\n"
   ]
  },
  {
   "cell_type": "markdown",
   "id": "9941c848",
   "metadata": {
    "heading_collapsed": true,
    "hidden": true
   },
   "source": [
    "## 3. Testing Assumptions"
   ]
  },
  {
   "cell_type": "markdown",
   "id": "3a38e3a8",
   "metadata": {
    "hidden": true
   },
   "source": [
    "- No significant outliers\n",
    "- Normality\n",
    "- Equal Variance"
   ]
  },
  {
   "cell_type": "markdown",
   "id": "40af28da",
   "metadata": {
    "hidden": true
   },
   "source": [
    "### Checking Assumption of No Sig. Outliers"
   ]
  },
  {
   "cell_type": "code",
   "execution_count": null,
   "id": "9a90f384",
   "metadata": {
    "hidden": true,
    "scrolled": true
   },
   "outputs": [],
   "source": [
    "## Saving JUST the numeric col as final group variables\n",
    "male_group = None\n",
    "female_group = None\n"
   ]
  },
  {
   "cell_type": "code",
   "execution_count": null,
   "id": "d10ea51e",
   "metadata": {
    "hidden": true
   },
   "outputs": [],
   "source": [
    "## Check female group for outliers\n",
    "female_outliers = None\n",
    "\n",
    "## how many outliers?\n"
   ]
  },
  {
   "cell_type": "code",
   "execution_count": null,
   "id": "1aef7c00",
   "metadata": {
    "hidden": true
   },
   "outputs": [],
   "source": [
    "## remove outliers from female_group\n"
   ]
  },
  {
   "cell_type": "code",
   "execution_count": null,
   "id": "45506df5",
   "metadata": {
    "hidden": true
   },
   "outputs": [],
   "source": [
    "## Check male group for outliers\n",
    "male_outliers = None\n",
    "\n",
    "## how many outliers?\n"
   ]
  },
  {
   "cell_type": "code",
   "execution_count": null,
   "id": "00de8a09",
   "metadata": {
    "hidden": true
   },
   "outputs": [],
   "source": [
    "## remove outliers from male_group\n"
   ]
  },
  {
   "cell_type": "markdown",
   "id": "2f80bec1",
   "metadata": {
    "hidden": true
   },
   "source": [
    "### Test for Normality"
   ]
  },
  {
   "cell_type": "code",
   "execution_count": null,
   "id": "7dbac26c",
   "metadata": {
    "hidden": true
   },
   "outputs": [],
   "source": [
    "## Check female group for normality\n"
   ]
  },
  {
   "cell_type": "code",
   "execution_count": null,
   "id": "88e8fb3c",
   "metadata": {
    "hidden": true
   },
   "outputs": [],
   "source": [
    "## Check n for female group\n"
   ]
  },
  {
   "cell_type": "code",
   "execution_count": null,
   "id": "4cb1c02d",
   "metadata": {
    "hidden": true,
    "scrolled": true
   },
   "outputs": [],
   "source": [
    "## Check male group for normality\n"
   ]
  },
  {
   "cell_type": "code",
   "execution_count": null,
   "id": "8051e5a8",
   "metadata": {
    "hidden": true
   },
   "outputs": [],
   "source": [
    "## Check n for male group\n"
   ]
  },
  {
   "cell_type": "markdown",
   "id": "3c5fa24f",
   "metadata": {
    "hidden": true
   },
   "source": [
    "- Did we meet the assumption?"
   ]
  },
  {
   "cell_type": "markdown",
   "id": "f41351ba",
   "metadata": {
    "hidden": true
   },
   "source": [
    "### Test for Equal Variances"
   ]
  },
  {
   "cell_type": "code",
   "execution_count": null,
   "id": "559ed7c3",
   "metadata": {
    "hidden": true
   },
   "outputs": [],
   "source": [
    "## Use Levene's test for equal variance\n"
   ]
  },
  {
   "cell_type": "code",
   "execution_count": null,
   "id": "7211dffc",
   "metadata": {
    "hidden": true,
    "scrolled": true
   },
   "outputs": [],
   "source": [
    "## Use an if-else to help interpret the p-value\n"
   ]
  },
  {
   "cell_type": "markdown",
   "id": "54acf417",
   "metadata": {
    "hidden": true
   },
   "source": [
    "- Did we meet the assumptions?"
   ]
  },
  {
   "cell_type": "markdown",
   "id": "42d92738",
   "metadata": {
    "heading_collapsed": true,
    "hidden": true
   },
   "source": [
    "## Final Hypothesis Test"
   ]
  },
  {
   "cell_type": "markdown",
   "id": "39981a0e",
   "metadata": {
    "hidden": true
   },
   "source": [
    "- Did we meet our test's assumptions? \n",
    "    - If not, what is the alternative test?"
   ]
  },
  {
   "cell_type": "code",
   "execution_count": null,
   "id": "bf0d8280",
   "metadata": {
    "hidden": true
   },
   "outputs": [],
   "source": [
    "## run final hypothess test\n"
   ]
  },
  {
   "cell_type": "code",
   "execution_count": null,
   "id": "1902d296",
   "metadata": {
    "hidden": true
   },
   "outputs": [],
   "source": [
    "## make a plot or calcualte group means to know which group had more/less.\n"
   ]
  },
  {
   "cell_type": "markdown",
   "id": "41d13f96",
   "metadata": {
    "hidden": true
   },
   "source": [
    "- Final Conclusion:\n",
    "    - ..."
   ]
  },
  {
   "cell_type": "markdown",
   "id": "dc5432e3",
   "metadata": {},
   "source": [
    "# Q2: Do different sectors get more/less funding?"
   ]
  },
  {
   "cell_type": "markdown",
   "id": "7a345561",
   "metadata": {},
   "source": [
    "## 1. State the Hypothesis & Null Hypothesis "
   ]
  },
  {
   "cell_type": "markdown",
   "id": "0c9a6ead",
   "metadata": {},
   "source": [
    "- $H_0$ (Null Hypothesis): There is no difference between funded amounts for different sectors.\n",
    "- $H_A$ (Alternative Hypothesis):There is a significant difference between funded amounts for different sectors."
   ]
  },
  {
   "cell_type": "markdown",
   "id": "5f28bc93",
   "metadata": {},
   "source": [
    "## 2. Determine the correct test to perform."
   ]
  },
  {
   "cell_type": "markdown",
   "id": "c4159c7d",
   "metadata": {},
   "source": [
    "- Type of Data? Numeric\n",
    "- How many groups/samples?more than 2\n",
    "- Therefore, which test is appropriate? ANOVA\n"
   ]
  },
  {
   "cell_type": "code",
   "execution_count": 6,
   "id": "05c1e58c",
   "metadata": {},
   "outputs": [
    {
     "data": {
      "text/plain": [
       "array(['Food', 'Transportation', 'Arts', 'Services', 'Agriculture',\n",
       "       'Manufacturing', 'Wholesale', 'Retail', 'Clothing', 'Construction',\n",
       "       'Health', 'Education', 'Personal Use', 'Housing', 'Entertainment'],\n",
       "      dtype=object)"
      ]
     },
     "execution_count": 6,
     "metadata": {},
     "output_type": "execute_result"
    }
   ],
   "source": [
    "## how many sectors?\n",
    "df['sector'].unique()"
   ]
  },
  {
   "cell_type": "markdown",
   "id": "fe9c8684",
   "metadata": {},
   "source": [
    "### Visualize and separate data for hypothesis"
   ]
  },
  {
   "cell_type": "markdown",
   "id": "e89aeb74",
   "metadata": {},
   "source": [
    "- What column is our target?\n",
    "- What column determines our groups?"
   ]
  },
  {
   "cell_type": "code",
   "execution_count": 4,
   "id": "f0859820",
   "metadata": {},
   "outputs": [
    {
     "data": {
      "image/png": "[encoded data removed]",
      "text/plain": [
       "<Figure size 432x288 with 1 Axes>"
      ]
     },
     "metadata": {
      "needs_background": "light"
     },
     "output_type": "display_data"
    }
   ],
   "source": [
    "## barplot\n",
    "ax = sns.barplot(data=df,x='sector',y='funded_amount')\n",
    "ax.set_xticklabels(ax.get_xticklabels(), rotation=45, ha='right');"
   ]
  },
  {
   "cell_type": "code",
   "execution_count": 7,
   "id": "e3c7b288",
   "metadata": {},
   "outputs": [
    {
     "data": {
      "text/html": [
       "<div>\n",
       "<style scoped>\n",
       "    .dataframe tbody tr th:only-of-type {\n",
       "        vertical-align: middle;\n",
       "    }\n",
       "\n",
       "    .dataframe tbody tr th {\n",
       "        vertical-align: top;\n",
       "    }\n",
       "\n",
       "    .dataframe thead th {\n",
       "        text-align: right;\n",
       "    }\n",
       "</style>\n",
       "<table border=\"1\" class=\"dataframe\">\n",
       "  <thead>\n",
       "    <tr style=\"text-align: right;\">\n",
       "      <th></th>\n",
       "      <th>sector</th>\n",
       "      <th>funded_amount</th>\n",
       "    </tr>\n",
       "    <tr>\n",
       "      <th>id</th>\n",
       "      <th></th>\n",
       "      <th></th>\n",
       "    </tr>\n",
       "  </thead>\n",
       "  <tbody>\n",
       "    <tr>\n",
       "      <th>653051</th>\n",
       "      <td>Food</td>\n",
       "      <td>300.0</td>\n",
       "    </tr>\n",
       "    <tr>\n",
       "      <th>653053</th>\n",
       "      <td>Transportation</td>\n",
       "      <td>575.0</td>\n",
       "    </tr>\n",
       "    <tr>\n",
       "      <th>653068</th>\n",
       "      <td>Transportation</td>\n",
       "      <td>150.0</td>\n",
       "    </tr>\n",
       "    <tr>\n",
       "      <th>653063</th>\n",
       "      <td>Arts</td>\n",
       "      <td>200.0</td>\n",
       "    </tr>\n",
       "    <tr>\n",
       "      <th>653084</th>\n",
       "      <td>Food</td>\n",
       "      <td>400.0</td>\n",
       "    </tr>\n",
       "    <tr>\n",
       "      <th>...</th>\n",
       "      <td>...</td>\n",
       "      <td>...</td>\n",
       "    </tr>\n",
       "    <tr>\n",
       "      <th>1340318</th>\n",
       "      <td>Agriculture</td>\n",
       "      <td>0.0</td>\n",
       "    </tr>\n",
       "    <tr>\n",
       "      <th>1340323</th>\n",
       "      <td>Agriculture</td>\n",
       "      <td>0.0</td>\n",
       "    </tr>\n",
       "    <tr>\n",
       "      <th>1340316</th>\n",
       "      <td>Agriculture</td>\n",
       "      <td>25.0</td>\n",
       "    </tr>\n",
       "    <tr>\n",
       "      <th>1340338</th>\n",
       "      <td>Agriculture</td>\n",
       "      <td>0.0</td>\n",
       "    </tr>\n",
       "    <tr>\n",
       "      <th>1340339</th>\n",
       "      <td>Agriculture</td>\n",
       "      <td>0.0</td>\n",
       "    </tr>\n",
       "  </tbody>\n",
       "</table>\n",
       "<p>666984 rows × 2 columns</p>\n",
       "</div>"
      ],
      "text/plain": [
       "                 sector  funded_amount\n",
       "id                                    \n",
       "653051             Food          300.0\n",
       "653053   Transportation          575.0\n",
       "653068   Transportation          150.0\n",
       "653063             Arts          200.0\n",
       "653084             Food          400.0\n",
       "...                 ...            ...\n",
       "1340318     Agriculture            0.0\n",
       "1340323     Agriculture            0.0\n",
       "1340316     Agriculture           25.0\n",
       "1340338     Agriculture            0.0\n",
       "1340339     Agriculture            0.0\n",
       "\n",
       "[666984 rows x 2 columns]"
      ]
     },
     "execution_count": 7,
     "metadata": {},
     "output_type": "execute_result"
    }
   ],
   "source": [
    "needed_cols = ['sector','funded_amount']\n",
    "df[needed_cols]"
   ]
  },
  {
   "cell_type": "code",
   "execution_count": null,
   "id": "abb79cad",
   "metadata": {},
   "outputs": [],
   "source": []
  },
  {
   "cell_type": "code",
   "execution_count": null,
   "id": "e104c834",
   "metadata": {},
   "outputs": [],
   "source": []
  },
  {
   "cell_type": "code",
   "execution_count": 12,
   "id": "b76d26f0",
   "metadata": {},
   "outputs": [
    {
     "data": {
      "text/plain": [
       "dict_keys(['Food', 'Transportation', 'Arts', 'Services', 'Agriculture', 'Manufacturing', 'Wholesale', 'Retail', 'Clothing', 'Construction', 'Health', 'Education', 'Personal Use', 'Housing', 'Entertainment'])"
      ]
     },
     "execution_count": 12,
     "metadata": {},
     "output_type": "execute_result"
    }
   ],
   "source": [
    "## Create a dictionary with each group as key and funded_amount as values\n",
    "groups = {}\n",
    "\n",
    "for sector in df['sector'].unique():\n",
    "    temp = df.loc[df['sector']==sector,'funded_amount']\n",
    "    groups[sector] = temp\n",
    "\n",
    "groups.keys()"
   ]
  },
  {
   "cell_type": "code",
   "execution_count": 13,
   "id": "4141c566",
   "metadata": {},
   "outputs": [
    {
     "data": {
      "text/plain": [
       "dict_items([('Food', id\n",
       "653051      300.0\n",
       "653084      400.0\n",
       "653048      625.0\n",
       "653065      250.0\n",
       "653055      350.0\n",
       "            ...  \n",
       "1338707    2650.0\n",
       "1338799      50.0\n",
       "1338859       0.0\n",
       "1338682    3525.0\n",
       "1339743       0.0\n",
       "Name: funded_amount, Length: 135749, dtype: float64), ('Transportation', id\n",
       "653053     575.0\n",
       "653068     150.0\n",
       "653060     200.0\n",
       "653054     300.0\n",
       "653056     475.0\n",
       "           ...  \n",
       "1338426      0.0\n",
       "1338575      0.0\n",
       "1338405      0.0\n",
       "1338541      0.0\n",
       "1338819    250.0\n",
       "Name: funded_amount, Length: 15455, dtype: float64), ('Arts', id\n",
       "653063      200.0\n",
       "653079      350.0\n",
       "653124      425.0\n",
       "653407      275.0\n",
       "653783     2550.0\n",
       "            ...  \n",
       "1338545     150.0\n",
       "1338643    1525.0\n",
       "1338581       0.0\n",
       "1338516     100.0\n",
       "1338653     500.0\n",
       "Name: funded_amount, Length: 11994, dtype: float64), ('Services', id\n",
       "1080148    250.0\n",
       "653078     400.0\n",
       "653052     875.0\n",
       "653066     250.0\n",
       "653080     475.0\n",
       "           ...  \n",
       "1339259      0.0\n",
       "1338816     50.0\n",
       "1339073      0.0\n",
       "1339713    175.0\n",
       "1339765      0.0\n",
       "Name: funded_amount, Length: 44699, dtype: float64), ('Agriculture', id\n",
       "653067     200.0\n",
       "653075     225.0\n",
       "653074     250.0\n",
       "653071     125.0\n",
       "653073     250.0\n",
       "           ...  \n",
       "1340318      0.0\n",
       "1340323      0.0\n",
       "1340316     25.0\n",
       "1340338      0.0\n",
       "1340339      0.0\n",
       "Name: funded_amount, Length: 179224, dtype: float64), ('Manufacturing', id\n",
       "653082      475.0\n",
       "653087      400.0\n",
       "653384      850.0\n",
       "653361      500.0\n",
       "653433     1500.0\n",
       "            ...  \n",
       "1336185      50.0\n",
       "1336295     450.0\n",
       "1336456     125.0\n",
       "1336971     475.0\n",
       "1338415     175.0\n",
       "Name: funded_amount, Length: 6158, dtype: float64), ('Wholesale', id\n",
       "653088      400.0\n",
       "655704      450.0\n",
       "657275     4175.0\n",
       "658295     1025.0\n",
       "657832     1900.0\n",
       "            ...  \n",
       "1324264     300.0\n",
       "1330018     525.0\n",
       "1329223     450.0\n",
       "1329828    1400.0\n",
       "1330989     475.0\n",
       "Name: funded_amount, Length: 626, dtype: float64), ('Retail', id\n",
       "653089      400.0\n",
       "653091      400.0\n",
       "653076      450.0\n",
       "653047     2225.0\n",
       "653057      350.0\n",
       "            ...  \n",
       "1338648    1300.0\n",
       "1338784    2700.0\n",
       "1339195     100.0\n",
       "1338802      50.0\n",
       "1338711    1825.0\n",
       "Name: funded_amount, Length: 123758, dtype: float64), ('Clothing', id\n",
       "653062      400.0\n",
       "653050      575.0\n",
       "653059      250.0\n",
       "653227      250.0\n",
       "653203      250.0\n",
       "            ...  \n",
       "1338462     200.0\n",
       "1338627       0.0\n",
       "1338716    4025.0\n",
       "1338696    1850.0\n",
       "1339693      75.0\n",
       "Name: funded_amount, Length: 32480, dtype: float64), ('Construction', id\n",
       "653069      250.0\n",
       "653207     3000.0\n",
       "653274      250.0\n",
       "653093      925.0\n",
       "653278      250.0\n",
       "            ...  \n",
       "1336281     525.0\n",
       "1336286      25.0\n",
       "1337094     675.0\n",
       "1336946       0.0\n",
       "1338460       0.0\n",
       "Name: funded_amount, Length: 6194, dtype: float64), ('Health', id\n",
       "653064      250.0\n",
       "653217     2200.0\n",
       "653234     2000.0\n",
       "653921      950.0\n",
       "654195     1400.0\n",
       "            ...  \n",
       "1338812     250.0\n",
       "1339110       0.0\n",
       "1338844       0.0\n",
       "1339703       0.0\n",
       "1339874       0.0\n",
       "Name: funded_amount, Length: 9172, dtype: float64), ('Education', id\n",
       "653081      200.0\n",
       "653419     1175.0\n",
       "653417      425.0\n",
       "653342      475.0\n",
       "653266     1000.0\n",
       "            ...  \n",
       "1337875      50.0\n",
       "1338823     175.0\n",
       "1338821     325.0\n",
       "1338878     475.0\n",
       "1339831      50.0\n",
       "Name: funded_amount, Length: 30837, dtype: float64), ('Personal Use', id\n",
       "653432      550.0\n",
       "653188     1000.0\n",
       "653191     1500.0\n",
       "653186     1000.0\n",
       "653215      450.0\n",
       "            ...  \n",
       "1336305       0.0\n",
       "1336340       0.0\n",
       "1336479       0.0\n",
       "1336868       0.0\n",
       "1337940       0.0\n",
       "Name: funded_amount, Length: 36247, dtype: float64), ('Housing', id\n",
       "653290     4275.0\n",
       "653181     1500.0\n",
       "653216     2000.0\n",
       "653261     4275.0\n",
       "653112     1150.0\n",
       "            ...  \n",
       "1338561       0.0\n",
       "1338603       0.0\n",
       "1338573       0.0\n",
       "1338567       0.0\n",
       "1339686     100.0\n",
       "Name: funded_amount, Length: 33571, dtype: float64), ('Entertainment', id\n",
       "656205      400.0\n",
       "657140      525.0\n",
       "657498     2000.0\n",
       "657308      450.0\n",
       "658251      300.0\n",
       "            ...  \n",
       "1325258    1400.0\n",
       "1326378     300.0\n",
       "1331821     350.0\n",
       "1337050     100.0\n",
       "1340264       0.0\n",
       "Name: funded_amount, Length: 820, dtype: float64)])"
      ]
     },
     "execution_count": 13,
     "metadata": {},
     "output_type": "execute_result"
    }
   ],
   "source": [
    "groups.items()"
   ]
  },
  {
   "cell_type": "code",
   "execution_count": 14,
   "id": "29b81d40",
   "metadata": {},
   "outputs": [
    {
     "data": {
      "text/plain": [
       "id\n",
       "653051      300.0\n",
       "653084      400.0\n",
       "653048      625.0\n",
       "653065      250.0\n",
       "653055      350.0\n",
       "            ...  \n",
       "1338707    2650.0\n",
       "1338799      50.0\n",
       "1338859       0.0\n",
       "1338682    3525.0\n",
       "1339743       0.0\n",
       "Name: funded_amount, Length: 135749, dtype: float64"
      ]
     },
     "execution_count": 14,
     "metadata": {},
     "output_type": "execute_result"
    }
   ],
   "source": [
    "## check one of the sectors in the dict\n",
    "groups['Food']"
   ]
  },
  {
   "cell_type": "markdown",
   "id": "31139f54",
   "metadata": {},
   "source": [
    "## 3. Testing Assumptions"
   ]
  },
  {
   "cell_type": "markdown",
   "id": "34626476",
   "metadata": {},
   "source": [
    "- No significant outliers\n",
    "- Normality\n",
    "- Equal Variance"
   ]
  },
  {
   "cell_type": "markdown",
   "id": "c1b834a8",
   "metadata": {},
   "source": [
    "### Checking Assumption of No Sig. Outliers"
   ]
  },
  {
   "cell_type": "code",
   "execution_count": 15,
   "id": "6110a825",
   "metadata": {},
   "outputs": [
    {
     "data": {
      "text/plain": [
       "False    35684\n",
       "True       563\n",
       "Name: funded_amount, dtype: int64"
      ]
     },
     "execution_count": 15,
     "metadata": {},
     "output_type": "execute_result"
    }
   ],
   "source": [
    "# check for one sector outlier\n",
    "\n",
    "temp = np.abs(stats.zscore(groups['Personal Use'])) > 3\n",
    "temp.value_counts()"
   ]
  },
  {
   "cell_type": "code",
   "execution_count": null,
   "id": "abe5e2eb",
   "metadata": {},
   "outputs": [],
   "source": []
  },
  {
   "cell_type": "code",
   "execution_count": null,
   "id": "4615c65e",
   "metadata": {},
   "outputs": [],
   "source": []
  },
  {
   "cell_type": "code",
   "execution_count": 18,
   "id": "a32ad813",
   "metadata": {},
   "outputs": [
    {
     "name": "stdout",
     "output_type": "stream",
     "text": [
      "There were 3994 outliers in the Food group.\n",
      "There were 231 outliers in the Transportation group.\n",
      "There were 273 outliers in the Arts group.\n",
      "There were 1253 outliers in the Services group.\n",
      "There were 2478 outliers in the Agriculture group.\n",
      "There were 95 outliers in the Manufacturing group.\n",
      "There were 4 outliers in the Wholesale group.\n",
      "There were 3007 outliers in the Retail group.\n",
      "There were 857 outliers in the Clothing group.\n",
      "There were 151 outliers in the Construction group.\n",
      "There were 109 outliers in the Health group.\n",
      "There were 473 outliers in the Education group.\n",
      "There were 563 outliers in the Personal Use group.\n",
      "There were 590 outliers in the Housing group.\n",
      "There were 17 outliers in the Entertainment group.\n"
     ]
    }
   ],
   "source": [
    "## Loop through groups dict\n",
    "for sector, data in groups.items():\n",
    "    ## determine if there are any outliers\n",
    "    outliers = np.abs(stats.zscore(data)) > 3\n",
    "    ## print a statement about how many outliers for which group name\n",
    "    print(f\"There were {outliers.sum()} outliers in the {sector} group.\")\n",
    "    ## Remove the outiers from data and overwrite the sector data in the dict\n",
    "    data = data.loc[~outliers]\n",
    "    groups[sector] = data"
   ]
  },
  {
   "cell_type": "markdown",
   "id": "13e13bdd",
   "metadata": {},
   "source": [
    "### Test for Normality"
   ]
  },
  {
   "cell_type": "code",
   "execution_count": 20,
   "id": "3d7fcf6d",
   "metadata": {},
   "outputs": [
    {
     "data": {
      "text/plain": [
       "True"
      ]
     },
     "execution_count": 20,
     "metadata": {},
     "output_type": "execute_result"
    }
   ],
   "source": [
    "# you can use stats.normaltest for each group separately or use the loop\n",
    "stats.normaltest(groups['Food']).pvalue <0.5\n",
    "\n"
   ]
  },
  {
   "cell_type": "code",
   "execution_count": 21,
   "id": "a0414c2c",
   "metadata": {},
   "outputs": [
    {
     "data": {
      "text/html": [
       "<div>\n",
       "<style scoped>\n",
       "    .dataframe tbody tr th:only-of-type {\n",
       "        vertical-align: middle;\n",
       "    }\n",
       "\n",
       "    .dataframe tbody tr th {\n",
       "        vertical-align: top;\n",
       "    }\n",
       "\n",
       "    .dataframe thead th {\n",
       "        text-align: right;\n",
       "    }\n",
       "</style>\n",
       "<table border=\"1\" class=\"dataframe\">\n",
       "  <thead>\n",
       "    <tr style=\"text-align: right;\">\n",
       "      <th></th>\n",
       "      <th>group</th>\n",
       "      <th>n</th>\n",
       "      <th>pval</th>\n",
       "      <th>sig?</th>\n",
       "    </tr>\n",
       "  </thead>\n",
       "  <tbody>\n",
       "    <tr>\n",
       "      <th>0</th>\n",
       "      <td>Food</td>\n",
       "      <td>131755</td>\n",
       "      <td>0.000000e+00</td>\n",
       "      <td>True</td>\n",
       "    </tr>\n",
       "    <tr>\n",
       "      <th>1</th>\n",
       "      <td>Transportation</td>\n",
       "      <td>15224</td>\n",
       "      <td>0.000000e+00</td>\n",
       "      <td>True</td>\n",
       "    </tr>\n",
       "    <tr>\n",
       "      <th>2</th>\n",
       "      <td>Arts</td>\n",
       "      <td>11721</td>\n",
       "      <td>0.000000e+00</td>\n",
       "      <td>True</td>\n",
       "    </tr>\n",
       "    <tr>\n",
       "      <th>3</th>\n",
       "      <td>Services</td>\n",
       "      <td>43446</td>\n",
       "      <td>0.000000e+00</td>\n",
       "      <td>True</td>\n",
       "    </tr>\n",
       "    <tr>\n",
       "      <th>4</th>\n",
       "      <td>Agriculture</td>\n",
       "      <td>176746</td>\n",
       "      <td>0.000000e+00</td>\n",
       "      <td>True</td>\n",
       "    </tr>\n",
       "    <tr>\n",
       "      <th>5</th>\n",
       "      <td>Manufacturing</td>\n",
       "      <td>6063</td>\n",
       "      <td>0.000000e+00</td>\n",
       "      <td>True</td>\n",
       "    </tr>\n",
       "    <tr>\n",
       "      <th>6</th>\n",
       "      <td>Wholesale</td>\n",
       "      <td>622</td>\n",
       "      <td>6.931789e-92</td>\n",
       "      <td>True</td>\n",
       "    </tr>\n",
       "    <tr>\n",
       "      <th>7</th>\n",
       "      <td>Retail</td>\n",
       "      <td>120751</td>\n",
       "      <td>0.000000e+00</td>\n",
       "      <td>True</td>\n",
       "    </tr>\n",
       "    <tr>\n",
       "      <th>8</th>\n",
       "      <td>Clothing</td>\n",
       "      <td>31623</td>\n",
       "      <td>0.000000e+00</td>\n",
       "      <td>True</td>\n",
       "    </tr>\n",
       "    <tr>\n",
       "      <th>9</th>\n",
       "      <td>Construction</td>\n",
       "      <td>6043</td>\n",
       "      <td>0.000000e+00</td>\n",
       "      <td>True</td>\n",
       "    </tr>\n",
       "    <tr>\n",
       "      <th>10</th>\n",
       "      <td>Health</td>\n",
       "      <td>9063</td>\n",
       "      <td>0.000000e+00</td>\n",
       "      <td>True</td>\n",
       "    </tr>\n",
       "    <tr>\n",
       "      <th>11</th>\n",
       "      <td>Education</td>\n",
       "      <td>30364</td>\n",
       "      <td>0.000000e+00</td>\n",
       "      <td>True</td>\n",
       "    </tr>\n",
       "    <tr>\n",
       "      <th>12</th>\n",
       "      <td>Personal Use</td>\n",
       "      <td>35684</td>\n",
       "      <td>0.000000e+00</td>\n",
       "      <td>True</td>\n",
       "    </tr>\n",
       "    <tr>\n",
       "      <th>13</th>\n",
       "      <td>Housing</td>\n",
       "      <td>32981</td>\n",
       "      <td>0.000000e+00</td>\n",
       "      <td>True</td>\n",
       "    </tr>\n",
       "    <tr>\n",
       "      <th>14</th>\n",
       "      <td>Entertainment</td>\n",
       "      <td>803</td>\n",
       "      <td>2.434681e-72</td>\n",
       "      <td>True</td>\n",
       "    </tr>\n",
       "  </tbody>\n",
       "</table>\n",
       "</div>"
      ],
      "text/plain": [
       "             group       n          pval  sig?\n",
       "0             Food  131755  0.000000e+00  True\n",
       "1   Transportation   15224  0.000000e+00  True\n",
       "2             Arts   11721  0.000000e+00  True\n",
       "3         Services   43446  0.000000e+00  True\n",
       "4      Agriculture  176746  0.000000e+00  True\n",
       "5    Manufacturing    6063  0.000000e+00  True\n",
       "6        Wholesale     622  6.931789e-92  True\n",
       "7           Retail  120751  0.000000e+00  True\n",
       "8         Clothing   31623  0.000000e+00  True\n",
       "9     Construction    6043  0.000000e+00  True\n",
       "10          Health    9063  0.000000e+00  True\n",
       "11       Education   30364  0.000000e+00  True\n",
       "12    Personal Use   35684  0.000000e+00  True\n",
       "13         Housing   32981  0.000000e+00  True\n",
       "14   Entertainment     803  2.434681e-72  True"
      ]
     },
     "execution_count": 21,
     "metadata": {},
     "output_type": "execute_result"
    }
   ],
   "source": [
    "## Running normal test on each group and confirming there are >20 in each group\n",
    "\n",
    "## Save a list with an inner list of column names\n",
    "norm_results = [['group','n','pval','sig?']]\n",
    "\n",
    "\n",
    "## loop through group dict\n",
    "for sector, data in groups.items():\n",
    "    ## calculate normaltest results\n",
    "    stat, p = stats.normaltest(data)\n",
    "    \n",
    "    ## Append the right info into norm_resutls (as a list)\n",
    "    norm_results.append([sector,len(data), p, p<.05])\n",
    "    \n",
    "    \n",
    "## Make norm_results a dataframe (first row is columns, everything else data)\n",
    "normal_results = pd.DataFrame(norm_results[1:], columns = norm_results[0])\n",
    "normal_results\n"
   ]
  },
  {
   "cell_type": "markdown",
   "id": "c9babaef",
   "metadata": {},
   "source": [
    "- Did we meet the assumption?"
   ]
  },
  {
   "cell_type": "markdown",
   "id": "f243a55e",
   "metadata": {},
   "source": [
    "### Test for Equal Variances"
   ]
  },
  {
   "cell_type": "code",
   "execution_count": 22,
   "id": "47d696a2",
   "metadata": {},
   "outputs": [
    {
     "data": {
      "text/plain": [
       "['a', 'b', 'c', 1, 2, 3]"
      ]
     },
     "execution_count": 22,
     "metadata": {},
     "output_type": "execute_result"
    }
   ],
   "source": [
    "## DEMO: using the * operator to unpack lists\n",
    "a_list = ['a','b','c']\n",
    "b_list = [1,2,3]\n",
    "new_list= [*a_list, *b_list]\n",
    "new_list"
   ]
  },
  {
   "cell_type": "code",
   "execution_count": 23,
   "id": "4aa7d6a1",
   "metadata": {},
   "outputs": [
    {
     "name": "stdout",
     "output_type": "stream",
     "text": [
      "LeveneResult(statistic=941.8381341090084, pvalue=0.0)\n"
     ]
    }
   ],
   "source": [
    "## Use Levene's test for equal variance\n",
    "result = stats.levene(*groups.values())\n",
    "print(result)"
   ]
  },
  {
   "cell_type": "code",
   "execution_count": 24,
   "id": "cf11dad4",
   "metadata": {
    "scrolled": true
   },
   "outputs": [
    {
     "name": "stdout",
     "output_type": "stream",
     "text": [
      "The groups do NOT have equal variance.\n"
     ]
    }
   ],
   "source": [
    "## Use an if-else to help interpret the p-value\n",
    "if result.pvalue < .05:\n",
    "    print(f\"The groups do NOT have equal variance.\")\n",
    "else:\n",
    "    print(f\"The groups DO have equal variance.\")"
   ]
  },
  {
   "cell_type": "markdown",
   "id": "325cde49",
   "metadata": {},
   "source": [
    "- Did we meet the assumption?\n"
   ]
  },
  {
   "cell_type": "markdown",
   "id": "be52dca4",
   "metadata": {},
   "source": [
    "## Final Hypothesis Test"
   ]
  },
  {
   "cell_type": "markdown",
   "id": "b0e81240",
   "metadata": {},
   "source": [
    "- Did we meet our test's assumptions? \n",
    "    - If not, what is the alternative test?"
   ]
  },
  {
   "cell_type": "code",
   "execution_count": 25,
   "id": "5ecec705",
   "metadata": {},
   "outputs": [
    {
     "name": "stdout",
     "output_type": "stream",
     "text": [
      "KruskalResult(statistic=36348.9897834356, pvalue=0.0)\n"
     ]
    },
    {
     "data": {
      "text/plain": [
       "True"
      ]
     },
     "execution_count": 25,
     "metadata": {},
     "output_type": "execute_result"
    }
   ],
   "source": [
    "## Running Krukal Test for Original Hypothesis\n",
    "result = stats.kruskal(*groups.values())\n",
    "print(result)\n",
    "result.pvalue<.05"
   ]
  },
  {
   "cell_type": "markdown",
   "id": "e65818dc",
   "metadata": {},
   "source": [
    "- Interpret Results. Did we have a significant result?\n",
    "- Is a post-hoc test needed?"
   ]
  },
  {
   "cell_type": "markdown",
   "id": "2a8f8677",
   "metadata": {},
   "source": [
    "### Post-Hoc Multiple Comparison Test"
   ]
  },
  {
   "cell_type": "code",
   "execution_count": 26,
   "id": "7a77b743",
   "metadata": {},
   "outputs": [],
   "source": [
    "## Post Hoc\n",
    "from statsmodels.stats.multicomp import pairwise_tukeyhsd"
   ]
  },
  {
   "cell_type": "markdown",
   "id": "4695814b",
   "metadata": {},
   "source": [
    "- Tukey's test requires a list of group names and a list of measured values. \n",
    "- Easiest way to produce and visualize this is to make our groups dict into a dataframe "
   ]
  },
  {
   "cell_type": "markdown",
   "id": "9960ab87",
   "metadata": {},
   "source": [
    "#### Testing Converting our Dictionary to a DataFrame"
   ]
  },
  {
   "cell_type": "code",
   "execution_count": 27,
   "id": "289baa32",
   "metadata": {
    "scrolled": true
   },
   "outputs": [
    {
     "data": {
      "text/plain": [
       "id\n",
       "653432      550.0\n",
       "653188     1000.0\n",
       "653191     1500.0\n",
       "653186     1000.0\n",
       "653215      450.0\n",
       "            ...  \n",
       "1336305       0.0\n",
       "1336340       0.0\n",
       "1336479       0.0\n",
       "1336868       0.0\n",
       "1337940       0.0\n",
       "Name: funded_amount, Length: 35684, dtype: float64"
      ]
     },
     "execution_count": 27,
     "metadata": {},
     "output_type": "execute_result"
    }
   ],
   "source": [
    "## slice a test sector\n",
    "temp = groups['Personal Use']\n",
    "temp"
   ]
  },
  {
   "cell_type": "code",
   "execution_count": 28,
   "id": "ba09d1cd",
   "metadata": {
    "scrolled": true
   },
   "outputs": [
    {
     "data": {
      "text/html": [
       "<div>\n",
       "<style scoped>\n",
       "    .dataframe tbody tr th:only-of-type {\n",
       "        vertical-align: middle;\n",
       "    }\n",
       "\n",
       "    .dataframe tbody tr th {\n",
       "        vertical-align: top;\n",
       "    }\n",
       "\n",
       "    .dataframe thead th {\n",
       "        text-align: right;\n",
       "    }\n",
       "</style>\n",
       "<table border=\"1\" class=\"dataframe\">\n",
       "  <thead>\n",
       "    <tr style=\"text-align: right;\">\n",
       "      <th></th>\n",
       "      <th>Funded Amount</th>\n",
       "      <th>Sector</th>\n",
       "    </tr>\n",
       "    <tr>\n",
       "      <th>id</th>\n",
       "      <th></th>\n",
       "      <th></th>\n",
       "    </tr>\n",
       "  </thead>\n",
       "  <tbody>\n",
       "    <tr>\n",
       "      <th>653432</th>\n",
       "      <td>550.0</td>\n",
       "      <td>Personal Use</td>\n",
       "    </tr>\n",
       "    <tr>\n",
       "      <th>653188</th>\n",
       "      <td>1000.0</td>\n",
       "      <td>Personal Use</td>\n",
       "    </tr>\n",
       "    <tr>\n",
       "      <th>653191</th>\n",
       "      <td>1500.0</td>\n",
       "      <td>Personal Use</td>\n",
       "    </tr>\n",
       "    <tr>\n",
       "      <th>653186</th>\n",
       "      <td>1000.0</td>\n",
       "      <td>Personal Use</td>\n",
       "    </tr>\n",
       "    <tr>\n",
       "      <th>653215</th>\n",
       "      <td>450.0</td>\n",
       "      <td>Personal Use</td>\n",
       "    </tr>\n",
       "    <tr>\n",
       "      <th>...</th>\n",
       "      <td>...</td>\n",
       "      <td>...</td>\n",
       "    </tr>\n",
       "    <tr>\n",
       "      <th>1336305</th>\n",
       "      <td>0.0</td>\n",
       "      <td>Personal Use</td>\n",
       "    </tr>\n",
       "    <tr>\n",
       "      <th>1336340</th>\n",
       "      <td>0.0</td>\n",
       "      <td>Personal Use</td>\n",
       "    </tr>\n",
       "    <tr>\n",
       "      <th>1336479</th>\n",
       "      <td>0.0</td>\n",
       "      <td>Personal Use</td>\n",
       "    </tr>\n",
       "    <tr>\n",
       "      <th>1336868</th>\n",
       "      <td>0.0</td>\n",
       "      <td>Personal Use</td>\n",
       "    </tr>\n",
       "    <tr>\n",
       "      <th>1337940</th>\n",
       "      <td>0.0</td>\n",
       "      <td>Personal Use</td>\n",
       "    </tr>\n",
       "  </tbody>\n",
       "</table>\n",
       "<p>35684 rows × 2 columns</p>\n",
       "</div>"
      ],
      "text/plain": [
       "         Funded Amount        Sector\n",
       "id                                  \n",
       "653432           550.0  Personal Use\n",
       "653188          1000.0  Personal Use\n",
       "653191          1500.0  Personal Use\n",
       "653186          1000.0  Personal Use\n",
       "653215           450.0  Personal Use\n",
       "...                ...           ...\n",
       "1336305            0.0  Personal Use\n",
       "1336340            0.0  Personal Use\n",
       "1336479            0.0  Personal Use\n",
       "1336868            0.0  Personal Use\n",
       "1337940            0.0  Personal Use\n",
       "\n",
       "[35684 rows x 2 columns]"
      ]
     },
     "execution_count": 28,
     "metadata": {},
     "output_type": "execute_result"
    }
   ],
   "source": [
    "## test making a dataframe from the test sector and filling in the sector name\n",
    "pd.DataFrame({'Funded Amount':temp, 'Sector':'Personal Use'})"
   ]
  },
  {
   "cell_type": "markdown",
   "id": "f86e79c8",
   "metadata": {},
   "source": [
    "#### Preparing the new dataframe for Tukey's test in a looop"
   ]
  },
  {
   "cell_type": "code",
   "execution_count": 29,
   "id": "427cfe9b",
   "metadata": {
    "scrolled": true
   },
   "outputs": [
    {
     "data": {
      "text/html": [
       "<div>\n",
       "<style scoped>\n",
       "    .dataframe tbody tr th:only-of-type {\n",
       "        vertical-align: middle;\n",
       "    }\n",
       "\n",
       "    .dataframe tbody tr th {\n",
       "        vertical-align: top;\n",
       "    }\n",
       "\n",
       "    .dataframe thead th {\n",
       "        text-align: right;\n",
       "    }\n",
       "</style>\n",
       "<table border=\"1\" class=\"dataframe\">\n",
       "  <thead>\n",
       "    <tr style=\"text-align: right;\">\n",
       "      <th></th>\n",
       "      <th>Funded Amount</th>\n",
       "      <th>Sector</th>\n",
       "    </tr>\n",
       "    <tr>\n",
       "      <th>id</th>\n",
       "      <th></th>\n",
       "      <th></th>\n",
       "    </tr>\n",
       "  </thead>\n",
       "  <tbody>\n",
       "    <tr>\n",
       "      <th>653051</th>\n",
       "      <td>300.0</td>\n",
       "      <td>Food</td>\n",
       "    </tr>\n",
       "    <tr>\n",
       "      <th>653084</th>\n",
       "      <td>400.0</td>\n",
       "      <td>Food</td>\n",
       "    </tr>\n",
       "    <tr>\n",
       "      <th>653048</th>\n",
       "      <td>625.0</td>\n",
       "      <td>Food</td>\n",
       "    </tr>\n",
       "    <tr>\n",
       "      <th>653065</th>\n",
       "      <td>250.0</td>\n",
       "      <td>Food</td>\n",
       "    </tr>\n",
       "    <tr>\n",
       "      <th>653055</th>\n",
       "      <td>350.0</td>\n",
       "      <td>Food</td>\n",
       "    </tr>\n",
       "    <tr>\n",
       "      <th>...</th>\n",
       "      <td>...</td>\n",
       "      <td>...</td>\n",
       "    </tr>\n",
       "    <tr>\n",
       "      <th>1325258</th>\n",
       "      <td>1400.0</td>\n",
       "      <td>Entertainment</td>\n",
       "    </tr>\n",
       "    <tr>\n",
       "      <th>1326378</th>\n",
       "      <td>300.0</td>\n",
       "      <td>Entertainment</td>\n",
       "    </tr>\n",
       "    <tr>\n",
       "      <th>1331821</th>\n",
       "      <td>350.0</td>\n",
       "      <td>Entertainment</td>\n",
       "    </tr>\n",
       "    <tr>\n",
       "      <th>1337050</th>\n",
       "      <td>100.0</td>\n",
       "      <td>Entertainment</td>\n",
       "    </tr>\n",
       "    <tr>\n",
       "      <th>1340264</th>\n",
       "      <td>0.0</td>\n",
       "      <td>Entertainment</td>\n",
       "    </tr>\n",
       "  </tbody>\n",
       "</table>\n",
       "<p>652889 rows × 2 columns</p>\n",
       "</div>"
      ],
      "text/plain": [
       "         Funded Amount         Sector\n",
       "id                                   \n",
       "653051           300.0           Food\n",
       "653084           400.0           Food\n",
       "653048           625.0           Food\n",
       "653065           250.0           Food\n",
       "653055           350.0           Food\n",
       "...                ...            ...\n",
       "1325258         1400.0  Entertainment\n",
       "1326378          300.0  Entertainment\n",
       "1331821          350.0  Entertainment\n",
       "1337050          100.0  Entertainment\n",
       "1340264            0.0  Entertainment\n",
       "\n",
       "[652889 rows x 2 columns]"
      ]
     },
     "execution_count": 29,
     "metadata": {},
     "output_type": "execute_result"
    }
   ],
   "source": [
    "## make a list for saving the dataframes to\n",
    "tukeys_dfs = []\n",
    "\n",
    "## Loop through groups dict's items\n",
    "for sector, temp in groups.items():\n",
    "    \n",
    "    ## make a temp_df with the data and the sector name\n",
    "    temp_df = pd.DataFrame({'Funded Amount':temp, 'Sector':sector})\n",
    "    \n",
    "    ## append to tukeys_dfs\n",
    "    tukeys_dfs.append(temp_df)\n",
    "    \n",
    "## concatenate them into 1 dataframe    \n",
    "tukeys_data = pd.concat(tukeys_dfs)\n",
    "tukeys_data"
   ]
  },
  {
   "cell_type": "code",
   "execution_count": 30,
   "id": "23d4e18d",
   "metadata": {
    "scrolled": false
   },
   "outputs": [
    {
     "data": {
      "text/html": [
       "<table class=\"simpletable\">\n",
       "<caption>Multiple Comparison of Means - Tukey HSD, FWER=0.05</caption>\n",
       "<tr>\n",
       "      <th>group1</th>         <th>group2</th>     <th>meandiff</th>   <th>p-adj</th>   <th>lower</th>     <th>upper</th>   <th>reject</th>\n",
       "</tr>\n",
       "<tr>\n",
       "    <td>Agriculture</td>       <td>Arts</td>      <td>165.1053</td>    <td>0.0</td>  <td>143.2289</td>  <td>186.9817</td>   <td>True</td> \n",
       "</tr>\n",
       "<tr>\n",
       "    <td>Agriculture</td>     <td>Clothing</td>    <td>235.2757</td>    <td>0.0</td>  <td>221.2716</td>  <td>249.2798</td>   <td>True</td> \n",
       "</tr>\n",
       "<tr>\n",
       "    <td>Agriculture</td>   <td>Construction</td>  <td>177.9816</td>    <td>0.0</td>  <td>147.9769</td>  <td>207.9863</td>   <td>True</td> \n",
       "</tr>\n",
       "<tr>\n",
       "    <td>Agriculture</td>     <td>Education</td>   <td>213.7211</td>    <td>0.0</td>  <td>199.4728</td>  <td>227.9693</td>   <td>True</td> \n",
       "</tr>\n",
       "<tr>\n",
       "    <td>Agriculture</td>   <td>Entertainment</td> <td>404.3165</td>    <td>0.0</td>   <td>323.194</td>   <td>485.439</td>   <td>True</td> \n",
       "</tr>\n",
       "<tr>\n",
       "    <td>Agriculture</td>       <td>Food</td>       <td>14.7386</td>    <td>0.0</td>   <td>6.3906</td>    <td>23.0867</td>   <td>True</td> \n",
       "</tr>\n",
       "<tr>\n",
       "    <td>Agriculture</td>      <td>Health</td>      <td>236.167</td>    <td>0.0</td>  <td>211.4647</td>  <td>260.8693</td>   <td>True</td> \n",
       "</tr>\n",
       "<tr>\n",
       "    <td>Agriculture</td>      <td>Housing</td>    <td>-87.0379</td>    <td>0.0</td>  <td>-100.7953</td> <td>-73.2806</td>   <td>True</td> \n",
       "</tr>\n",
       "<tr>\n",
       "    <td>Agriculture</td>   <td>Manufacturing</td>  <td>96.7218</td>    <td>0.0</td>   <td>66.765</td>   <td>126.6786</td>   <td>True</td> \n",
       "</tr>\n",
       "<tr>\n",
       "    <td>Agriculture</td>   <td>Personal Use</td>  <td>-327.2873</td>   <td>0.0</td>  <td>-340.5983</td> <td>-313.9763</td>  <td>True</td> \n",
       "</tr>\n",
       "<tr>\n",
       "    <td>Agriculture</td>      <td>Retail</td>      <td>-70.851</td>    <td>0.0</td>  <td>-79.4141</td>  <td>-62.2878</td>   <td>True</td> \n",
       "</tr>\n",
       "<tr>\n",
       "    <td>Agriculture</td>     <td>Services</td>    <td>116.9748</td>    <td>0.0</td>  <td>104.6928</td>  <td>129.2567</td>   <td>True</td> \n",
       "</tr>\n",
       "<tr>\n",
       "    <td>Agriculture</td>  <td>Transportation</td> <td>-107.2211</td>   <td>0.0</td>  <td>-126.5938</td> <td>-87.8483</td>   <td>True</td> \n",
       "</tr>\n",
       "<tr>\n",
       "    <td>Agriculture</td>     <td>Wholesale</td>   <td>558.5345</td>    <td>0.0</td>  <td>466.4084</td>  <td>650.6605</td>   <td>True</td> \n",
       "</tr>\n",
       "<tr>\n",
       "       <td>Arts</td>         <td>Clothing</td>     <td>70.1704</td>    <td>0.0</td>   <td>45.3679</td>   <td>94.9729</td>   <td>True</td> \n",
       "</tr>\n",
       "<tr>\n",
       "       <td>Arts</td>       <td>Construction</td>   <td>12.8763</td>  <td>0.9973</td> <td>-23.4463</td>   <td>49.1989</td>   <td>False</td>\n",
       "</tr>\n",
       "<tr>\n",
       "       <td>Arts</td>         <td>Education</td>    <td>48.6158</td>    <td>0.0</td>   <td>23.6746</td>   <td>73.5569</td>   <td>True</td> \n",
       "</tr>\n",
       "<tr>\n",
       "       <td>Arts</td>       <td>Entertainment</td> <td>239.2112</td>    <td>0.0</td>  <td>155.5458</td>  <td>322.8767</td>   <td>True</td> \n",
       "</tr>\n",
       "<tr>\n",
       "       <td>Arts</td>           <td>Food</td>      <td>-150.3667</td>   <td>0.0</td>  <td>-172.4741</td> <td>-128.2592</td>  <td>True</td> \n",
       "</tr>\n",
       "<tr>\n",
       "       <td>Arts</td>          <td>Health</td>      <td>71.0617</td>    <td>0.0</td>   <td>38.9797</td>  <td>103.1436</td>   <td>True</td> \n",
       "</tr>\n",
       "<tr>\n",
       "       <td>Arts</td>          <td>Housing</td>    <td>-252.1432</td>   <td>0.0</td>  <td>-276.8073</td> <td>-227.4792</td>  <td>True</td> \n",
       "</tr>\n",
       "<tr>\n",
       "       <td>Arts</td>       <td>Manufacturing</td> <td>-68.3835</td>    <td>0.0</td>  <td>-104.6665</td> <td>-32.1005</td>   <td>True</td> \n",
       "</tr>\n",
       "<tr>\n",
       "       <td>Arts</td>       <td>Personal Use</td>  <td>-492.3926</td>   <td>0.0</td>  <td>-516.8105</td> <td>-467.9748</td>  <td>True</td> \n",
       "</tr>\n",
       "<tr>\n",
       "       <td>Arts</td>          <td>Retail</td>     <td>-235.9563</td>   <td>0.0</td>  <td>-258.1458</td> <td>-213.7667</td>  <td>True</td> \n",
       "</tr>\n",
       "<tr>\n",
       "       <td>Arts</td>         <td>Services</td>    <td>-48.1305</td>    <td>0.0</td>   <td>-72.003</td>  <td>-24.2581</td>   <td>True</td> \n",
       "</tr>\n",
       "<tr>\n",
       "       <td>Arts</td>      <td>Transportation</td> <td>-272.3263</td>   <td>0.0</td>  <td>-300.5106</td> <td>-244.1421</td>  <td>True</td> \n",
       "</tr>\n",
       "<tr>\n",
       "       <td>Arts</td>         <td>Wholesale</td>   <td>393.4292</td>    <td>0.0</td>  <td>299.0562</td>  <td>487.8021</td>   <td>True</td> \n",
       "</tr>\n",
       "<tr>\n",
       "     <td>Clothing</td>     <td>Construction</td>  <td>-57.2941</td>    <td>0.0</td>  <td>-89.4945</td>  <td>-25.0937</td>   <td>True</td> \n",
       "</tr>\n",
       "<tr>\n",
       "     <td>Clothing</td>       <td>Education</td>   <td>-21.5546</td>  <td>0.0064</td> <td>-39.9829</td>   <td>-3.1264</td>   <td>True</td> \n",
       "</tr>\n",
       "<tr>\n",
       "     <td>Clothing</td>     <td>Entertainment</td> <td>169.0408</td>    <td>0.0</td>   <td>87.0808</td>  <td>251.0009</td>   <td>True</td> \n",
       "</tr>\n",
       "<tr>\n",
       "     <td>Clothing</td>         <td>Food</td>      <td>-220.5371</td>   <td>0.0</td>  <td>-234.8995</td> <td>-206.1747</td>  <td>True</td> \n",
       "</tr>\n",
       "<tr>\n",
       "     <td>Clothing</td>        <td>Health</td>      <td>0.8913</td>     <td>1.0</td>  <td>-26.4362</td>   <td>28.2188</td>   <td>False</td>\n",
       "</tr>\n",
       "<tr>\n",
       "     <td>Clothing</td>        <td>Housing</td>    <td>-322.3136</td>   <td>0.0</td>  <td>-340.365</td>  <td>-304.2622</td>  <td>True</td> \n",
       "</tr>\n",
       "<tr>\n",
       "     <td>Clothing</td>     <td>Manufacturing</td> <td>-138.5539</td>   <td>0.0</td>  <td>-170.7097</td> <td>-106.3981</td>  <td>True</td> \n",
       "</tr>\n",
       "<tr>\n",
       "     <td>Clothing</td>     <td>Personal Use</td>  <td>-562.563</td>    <td>0.0</td>  <td>-580.2766</td> <td>-544.8494</td>  <td>True</td> \n",
       "</tr>\n",
       "<tr>\n",
       "     <td>Clothing</td>        <td>Retail</td>     <td>-306.1266</td>   <td>0.0</td>  <td>-320.6151</td> <td>-291.6382</td>  <td>True</td> \n",
       "</tr>\n",
       "<tr>\n",
       "     <td>Clothing</td>       <td>Services</td>    <td>-118.3009</td>   <td>0.0</td>  <td>-135.2548</td> <td>-101.3471</td>  <td>True</td> \n",
       "</tr>\n",
       "<tr>\n",
       "     <td>Clothing</td>    <td>Transportation</td> <td>-342.4967</td>   <td>0.0</td>  <td>-365.1218</td> <td>-319.8717</td>  <td>True</td> \n",
       "</tr>\n",
       "<tr>\n",
       "     <td>Clothing</td>       <td>Wholesale</td>   <td>323.2588</td>    <td>0.0</td>  <td>230.3944</td>  <td>416.1231</td>   <td>True</td> \n",
       "</tr>\n",
       "<tr>\n",
       "   <td>Construction</td>     <td>Education</td>    <td>35.7395</td>  <td>0.0146</td>  <td>3.4321</td>    <td>68.0468</td>   <td>True</td> \n",
       "</tr>\n",
       "<tr>\n",
       "   <td>Construction</td>   <td>Entertainment</td> <td>226.3349</td>    <td>0.0</td>  <td>140.1861</td>  <td>312.4837</td>   <td>True</td> \n",
       "</tr>\n",
       "<tr>\n",
       "   <td>Construction</td>       <td>Food</td>      <td>-163.243</td>    <td>0.0</td>  <td>-193.4165</td> <td>-133.0694</td>  <td>True</td> \n",
       "</tr>\n",
       "<tr>\n",
       "   <td>Construction</td>      <td>Health</td>      <td>58.1854</td>    <td>0.0</td>   <td>20.0939</td>   <td>96.2768</td>   <td>True</td> \n",
       "</tr>\n",
       "<tr>\n",
       "   <td>Construction</td>      <td>Housing</td>    <td>-265.0195</td>   <td>0.0</td>  <td>-297.1134</td> <td>-232.9257</td>  <td>True</td> \n",
       "</tr>\n",
       "<tr>\n",
       "   <td>Construction</td>   <td>Manufacturing</td> <td>-81.2598</td>    <td>0.0</td>  <td>-122.9511</td> <td>-39.5686</td>   <td>True</td> \n",
       "</tr>\n",
       "<tr>\n",
       "   <td>Construction</td>   <td>Personal Use</td>  <td>-505.2689</td>   <td>0.0</td>  <td>-537.174</td>  <td>-473.3638</td>  <td>True</td> \n",
       "</tr>\n",
       "<tr>\n",
       "   <td>Construction</td>      <td>Retail</td>     <td>-248.8326</td>   <td>0.0</td>  <td>-279.0663</td> <td>-218.5988</td>  <td>True</td> \n",
       "</tr>\n",
       "<tr>\n",
       "   <td>Construction</td>     <td>Services</td>    <td>-61.0069</td>    <td>0.0</td>  <td>-92.4965</td>  <td>-29.5172</td>   <td>True</td> \n",
       "</tr>\n",
       "<tr>\n",
       "   <td>Construction</td>  <td>Transportation</td> <td>-285.2027</td>   <td>0.0</td>  <td>-320.0747</td> <td>-250.3306</td>  <td>True</td> \n",
       "</tr>\n",
       "<tr>\n",
       "   <td>Construction</td>     <td>Wholesale</td>   <td>380.5528</td>    <td>0.0</td>  <td>283.9715</td>  <td>477.1342</td>   <td>True</td> \n",
       "</tr>\n",
       "<tr>\n",
       "     <td>Education</td>    <td>Entertainment</td> <td>190.5955</td>    <td>0.0</td>  <td>108.5934</td>  <td>272.5976</td>   <td>True</td> \n",
       "</tr>\n",
       "<tr>\n",
       "     <td>Education</td>        <td>Food</td>      <td>-198.9825</td>   <td>0.0</td>  <td>-213.583</td>  <td>-184.3819</td>  <td>True</td> \n",
       "</tr>\n",
       "<tr>\n",
       "     <td>Education</td>       <td>Health</td>      <td>22.4459</td>  <td>0.2616</td>  <td>-5.0075</td>   <td>49.8993</td>   <td>False</td>\n",
       "</tr>\n",
       "<tr>\n",
       "     <td>Education</td>       <td>Housing</td>    <td>-300.759</td>    <td>0.0</td>  <td>-319.0005</td> <td>-282.5176</td>  <td>True</td> \n",
       "</tr>\n",
       "<tr>\n",
       "     <td>Education</td>    <td>Manufacturing</td> <td>-116.9993</td>   <td>0.0</td>  <td>-149.2622</td> <td>-84.7364</td>   <td>True</td> \n",
       "</tr>\n",
       "<tr>\n",
       "     <td>Education</td>    <td>Personal Use</td>  <td>-541.0084</td>   <td>0.0</td>  <td>-558.9156</td> <td>-523.1012</td>  <td>True</td> \n",
       "</tr>\n",
       "<tr>\n",
       "     <td>Education</td>       <td>Retail</td>     <td>-284.572</td>    <td>0.0</td>  <td>-299.2966</td> <td>-269.8474</td>  <td>True</td> \n",
       "</tr>\n",
       "<tr>\n",
       "     <td>Education</td>      <td>Services</td>    <td>-96.7463</td>    <td>0.0</td>  <td>-113.9024</td> <td>-79.5902</td>   <td>True</td> \n",
       "</tr>\n",
       "<tr>\n",
       "     <td>Education</td>   <td>Transportation</td> <td>-320.9421</td>   <td>0.0</td>  <td>-343.7191</td> <td>-298.1651</td>  <td>True</td> \n",
       "</tr>\n",
       "<tr>\n",
       "     <td>Education</td>      <td>Wholesale</td>   <td>344.8134</td>    <td>0.0</td>  <td>251.9119</td>  <td>437.7149</td>   <td>True</td> \n",
       "</tr>\n",
       "<tr>\n",
       "   <td>Entertainment</td>      <td>Food</td>      <td>-389.5779</td>   <td>0.0</td>  <td>-470.763</td>  <td>-308.3928</td>  <td>True</td> \n",
       "</tr>\n",
       "<tr>\n",
       "   <td>Entertainment</td>     <td>Health</td>     <td>-168.1496</td>   <td>0.0</td>  <td>-252.598</td>  <td>-83.7011</td>   <td>True</td> \n",
       "</tr>\n",
       "<tr>\n",
       "   <td>Entertainment</td>     <td>Housing</td>    <td>-491.3545</td>   <td>0.0</td>  <td>-573.2727</td> <td>-409.4362</td>  <td>True</td> \n",
       "</tr>\n",
       "<tr>\n",
       "   <td>Entertainment</td>  <td>Manufacturing</td> <td>-307.5947</td>   <td>0.0</td>  <td>-393.7269</td> <td>-221.4626</td>  <td>True</td> \n",
       "</tr>\n",
       "<tr>\n",
       "   <td>Entertainment</td>  <td>Personal Use</td>  <td>-731.6039</td>   <td>0.0</td>  <td>-813.4483</td> <td>-649.7594</td>  <td>True</td> \n",
       "</tr>\n",
       "<tr>\n",
       "   <td>Entertainment</td>     <td>Retail</td>     <td>-475.1675</td>   <td>0.0</td>  <td>-556.375</td>   <td>-393.96</td>   <td>True</td> \n",
       "</tr>\n",
       "<tr>\n",
       "   <td>Entertainment</td>    <td>Services</td>    <td>-287.3418</td>   <td>0.0</td>  <td>-369.0252</td> <td>-205.6584</td>  <td>True</td> \n",
       "</tr>\n",
       "<tr>\n",
       "   <td>Entertainment</td> <td>Transportation</td> <td>-511.5376</td>   <td>0.0</td>  <td>-594.5836</td> <td>-428.4916</td>  <td>True</td> \n",
       "</tr>\n",
       "<tr>\n",
       "   <td>Entertainment</td>    <td>Wholesale</td>   <td>154.2179</td>  <td>0.0018</td>  <td>31.7086</td>  <td>276.7273</td>   <td>True</td> \n",
       "</tr>\n",
       "<tr>\n",
       "       <td>Food</td>          <td>Health</td>     <td>221.4283</td>    <td>0.0</td>  <td>196.5212</td>  <td>246.3355</td>   <td>True</td> \n",
       "</tr>\n",
       "<tr>\n",
       "       <td>Food</td>          <td>Housing</td>    <td>-101.7766</td>   <td>0.0</td>  <td>-115.8985</td> <td>-87.6547</td>   <td>True</td> \n",
       "</tr>\n",
       "<tr>\n",
       "       <td>Food</td>       <td>Manufacturing</td>  <td>81.9832</td>    <td>0.0</td>   <td>51.8572</td>  <td>112.1091</td>   <td>True</td> \n",
       "</tr>\n",
       "<tr>\n",
       "       <td>Food</td>       <td>Personal Use</td>  <td>-342.026</td>    <td>0.0</td>  <td>-355.7134</td> <td>-328.3385</td>  <td>True</td> \n",
       "</tr>\n",
       "<tr>\n",
       "       <td>Food</td>          <td>Retail</td>     <td>-85.5896</td>    <td>0.0</td>   <td>-94.727</td>  <td>-76.4522</td>   <td>True</td> \n",
       "</tr>\n",
       "<tr>\n",
       "       <td>Food</td>         <td>Services</td>    <td>102.2361</td>    <td>0.0</td>   <td>89.5472</td>   <td>114.925</td>   <td>True</td> \n",
       "</tr>\n",
       "<tr>\n",
       "       <td>Food</td>      <td>Transportation</td> <td>-121.9597</td>   <td>0.0</td>  <td>-141.593</td>  <td>-102.3263</td>  <td>True</td> \n",
       "</tr>\n",
       "<tr>\n",
       "       <td>Food</td>         <td>Wholesale</td>   <td>543.7958</td>    <td>0.0</td>  <td>451.6146</td>   <td>635.977</td>   <td>True</td> \n",
       "</tr>\n",
       "<tr>\n",
       "      <td>Health</td>         <td>Housing</td>    <td>-323.2049</td>   <td>0.0</td>  <td>-350.4068</td> <td>-296.003</td>   <td>True</td> \n",
       "</tr>\n",
       "<tr>\n",
       "      <td>Health</td>      <td>Manufacturing</td> <td>-139.4452</td>   <td>0.0</td>  <td>-177.4989</td> <td>-101.3915</td>  <td>True</td> \n",
       "</tr>\n",
       "<tr>\n",
       "      <td>Health</td>      <td>Personal Use</td>  <td>-563.4543</td>   <td>0.0</td>  <td>-590.4332</td> <td>-536.4754</td>  <td>True</td> \n",
       "</tr>\n",
       "<tr>\n",
       "      <td>Health</td>         <td>Retail</td>     <td>-307.0179</td>   <td>0.0</td>  <td>-331.998</td>  <td>-282.0378</td>  <td>True</td> \n",
       "</tr>\n",
       "<tr>\n",
       "      <td>Health</td>        <td>Services</td>    <td>-119.1922</td>   <td>0.0</td>  <td>-145.6785</td>  <td>-92.706</td>   <td>True</td> \n",
       "</tr>\n",
       "<tr>\n",
       "      <td>Health</td>     <td>Transportation</td> <td>-343.388</td>    <td>0.0</td>  <td>-373.818</td>  <td>-312.9581</td>  <td>True</td> \n",
       "</tr>\n",
       "<tr>\n",
       "      <td>Health</td>        <td>Wholesale</td>   <td>322.3675</td>    <td>0.0</td>  <td>227.2997</td>  <td>417.4353</td>   <td>True</td> \n",
       "</tr>\n",
       "<tr>\n",
       "      <td>Housing</td>     <td>Manufacturing</td> <td>183.7597</td>    <td>0.0</td>  <td>151.7106</td>  <td>215.8089</td>   <td>True</td> \n",
       "</tr>\n",
       "<tr>\n",
       "      <td>Housing</td>     <td>Personal Use</td>  <td>-240.2494</td>   <td>0.0</td>  <td>-257.7686</td> <td>-222.7302</td>  <td>True</td> \n",
       "</tr>\n",
       "<tr>\n",
       "      <td>Housing</td>        <td>Retail</td>      <td>16.187</td>    <td>0.01</td>   <td>1.9368</td>    <td>30.4371</td>   <td>True</td> \n",
       "</tr>\n",
       "<tr>\n",
       "      <td>Housing</td>       <td>Services</td>    <td>204.0127</td>    <td>0.0</td>  <td>187.2621</td>  <td>220.7633</td>   <td>True</td> \n",
       "</tr>\n",
       "<tr>\n",
       "      <td>Housing</td>    <td>Transportation</td> <td>-20.1831</td>  <td>0.1361</td> <td>-42.6563</td>   <td>2.2901</td>    <td>False</td>\n",
       "</tr>\n",
       "<tr>\n",
       "      <td>Housing</td>       <td>Wholesale</td>   <td>645.5724</td>    <td>0.0</td>  <td>552.7449</td>  <td>738.3999</td>   <td>True</td> \n",
       "</tr>\n",
       "<tr>\n",
       "   <td>Manufacturing</td>  <td>Personal Use</td>  <td>-424.0091</td>   <td>0.0</td>  <td>-455.8692</td> <td>-392.149</td>   <td>True</td> \n",
       "</tr>\n",
       "<tr>\n",
       "   <td>Manufacturing</td>     <td>Retail</td>     <td>-167.5727</td>   <td>0.0</td>  <td>-197.759</td>  <td>-137.3865</td>  <td>True</td> \n",
       "</tr>\n",
       "<tr>\n",
       "   <td>Manufacturing</td>    <td>Services</td>     <td>20.253</td>   <td>0.6764</td> <td>-11.1911</td>   <td>51.697</td>    <td>False</td>\n",
       "</tr>\n",
       "<tr>\n",
       "   <td>Manufacturing</td> <td>Transportation</td> <td>-203.9428</td>   <td>0.0</td>  <td>-238.7737</td> <td>-169.112</td>   <td>True</td> \n",
       "</tr>\n",
       "<tr>\n",
       "   <td>Manufacturing</td>    <td>Wholesale</td>   <td>461.8127</td>    <td>0.0</td>  <td>365.2462</td>  <td>558.3792</td>   <td>True</td> \n",
       "</tr>\n",
       "<tr>\n",
       "   <td>Personal Use</td>      <td>Retail</td>     <td>256.4364</td>    <td>0.0</td>  <td>242.6166</td>  <td>270.2561</td>   <td>True</td> \n",
       "</tr>\n",
       "<tr>\n",
       "   <td>Personal Use</td>     <td>Services</td>    <td>444.2621</td>    <td>0.0</td>  <td>427.8761</td>  <td>460.6481</td>   <td>True</td> \n",
       "</tr>\n",
       "<tr>\n",
       "   <td>Personal Use</td>  <td>Transportation</td> <td>220.0663</td>    <td>0.0</td>  <td>197.8635</td>   <td>242.269</td>   <td>True</td> \n",
       "</tr>\n",
       "<tr>\n",
       "   <td>Personal Use</td>     <td>Wholesale</td>   <td>885.8218</td>    <td>0.0</td>  <td>793.0594</td>  <td>978.5842</td>   <td>True</td> \n",
       "</tr>\n",
       "<tr>\n",
       "      <td>Retail</td>        <td>Services</td>    <td>187.8257</td>    <td>0.0</td>  <td>174.9942</td>  <td>200.6572</td>   <td>True</td> \n",
       "</tr>\n",
       "<tr>\n",
       "      <td>Retail</td>     <td>Transportation</td> <td>-36.3701</td>    <td>0.0</td>  <td>-56.0959</td>  <td>-16.6443</td>   <td>True</td> \n",
       "</tr>\n",
       "<tr>\n",
       "      <td>Retail</td>        <td>Wholesale</td>   <td>629.3854</td>    <td>0.0</td>  <td>537.1845</td>  <td>721.5863</td>   <td>True</td> \n",
       "</tr>\n",
       "<tr>\n",
       "     <td>Services</td>    <td>Transportation</td> <td>-224.1958</td>   <td>0.0</td>  <td>-245.7973</td> <td>-202.5943</td>  <td>True</td> \n",
       "</tr>\n",
       "<tr>\n",
       "     <td>Services</td>       <td>Wholesale</td>   <td>441.5597</td>    <td>0.0</td>  <td>348.9394</td>   <td>534.18</td>    <td>True</td> \n",
       "</tr>\n",
       "<tr>\n",
       "  <td>Transportation</td>    <td>Wholesale</td>   <td>665.7555</td>    <td>0.0</td>  <td>571.9313</td>  <td>759.5797</td>   <td>True</td> \n",
       "</tr>\n",
       "</table>"
      ],
      "text/plain": [
       "<class 'statsmodels.iolib.table.SimpleTable'>"
      ]
     },
     "execution_count": 30,
     "metadata": {},
     "output_type": "execute_result"
    }
   ],
   "source": [
    "## save the values as kg_lost and the labels to the Diet\n",
    "values = tukeys_data['Funded Amount']\n",
    "labels = tukeys_data['Sector']\n",
    "\n",
    "## perform tukey's multiple comparison test and display the summary\n",
    "tukeys_results = pairwise_tukeyhsd(values,labels)\n",
    "tukeys_results.summary()"
   ]
  },
  {
   "cell_type": "code",
   "execution_count": 31,
   "id": "2dbb021c",
   "metadata": {},
   "outputs": [],
   "source": [
    "## optional -slicing out dataframe from results"
   ]
  },
  {
   "cell_type": "code",
   "execution_count": 32,
   "id": "4f9e5cff",
   "metadata": {
    "scrolled": true
   },
   "outputs": [
    {
     "data": {
      "image/png": "[encoded data removed]",
      "text/plain": [
       "<Figure size 432x288 with 1 Axes>"
      ]
     },
     "metadata": {
      "needs_background": "light"
     },
     "output_type": "display_data"
    }
   ],
   "source": [
    "## make a barplot of final data to go with results\n",
    "ax = sns.barplot(data=tukeys_data, x='Sector', y='Funded Amount', ci=68)\n",
    "ax.set_xticklabels(ax.get_xticklabels(), rotation='45', ha='right');"
   ]
  },
  {
   "cell_type": "code",
   "execution_count": null,
   "id": "a79d75fe",
   "metadata": {
    "scrolled": false
   },
   "outputs": [],
   "source": [
    "## also can use built-in plot tukeys_reuslts.plot_simultaneous\n",
    "tukeys_results.plot_simultaneous();"
   ]
  },
  {
   "cell_type": "markdown",
   "id": "e69374b6",
   "metadata": {},
   "source": [
    "- Final summary of group differences"
   ]
  },
  {
   "cell_type": "markdown",
   "id": "04d38863",
   "metadata": {},
   "source": [
    "- As we can see, there are MANY sectors that are significantly different from each other. Some highlights include that Wholesame and Entertainment have the highest average funded amounts and Personal use has the lowest."
   ]
  }
 ],
 "metadata": {
  "kernelspec": {
   "display_name": "Python (dojo-env)",
   "language": "python",
   "name": "dojo-env"
  },
  "language_info": {
   "codemirror_mode": {
    "name": "ipython",
    "version": 3
   },
   "file_extension": ".py",
   "mimetype": "text/x-python",
   "name": "python",
   "nbconvert_exporter": "python",
   "pygments_lexer": "ipython3",
   "version": "3.8.13"
  },
  "toc": {
   "base_numbering": 1,
   "nav_menu": {},
   "number_sections": false,
   "sideBar": true,
   "skip_h1_title": false,
   "title_cell": "Table of Contents",
   "title_sidebar": "Contents",
   "toc_cell": false,
   "toc_position": {
    "height": "calc(100% - 180px)",
    "left": "10px",
    "top": "150px",
    "width": "165px"
   },
   "toc_section_display": true,
   "toc_window_display": true
  }
 },
 "nbformat": 4,
 "nbformat_minor": 5
}
